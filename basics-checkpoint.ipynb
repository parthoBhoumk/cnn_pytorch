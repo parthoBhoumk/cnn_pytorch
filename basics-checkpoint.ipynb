{
 "cells": [
  {
   "cell_type": "markdown",
   "id": "43a93c06",
   "metadata": {},
   "source": [
    "# using cuda\n"
   ]
  },
  {
   "cell_type": "code",
   "execution_count": 2,
   "id": "9bbba5d6",
   "metadata": {},
   "outputs": [],
   "source": [
    "import torch \n",
    "import numpy as np"
   ]
  },
  {
   "cell_type": "code",
   "execution_count": 3,
   "id": "eaabb72b",
   "metadata": {},
   "outputs": [],
   "source": [
    "t = torch.tensor([1,2,3])"
   ]
  },
  {
   "cell_type": "code",
   "execution_count": 4,
   "id": "cc2adf0f",
   "metadata": {},
   "outputs": [
    {
     "data": {
      "text/plain": [
       "tensor([1, 2, 3])"
      ]
     },
     "execution_count": 4,
     "metadata": {},
     "output_type": "execute_result"
    }
   ],
   "source": [
    "t"
   ]
  },
  {
   "cell_type": "code",
   "execution_count": 5,
   "id": "b6a75b1c",
   "metadata": {},
   "outputs": [
    {
     "data": {
      "text/plain": [
       "tensor([1, 2, 3], device='cuda:0')"
      ]
     },
     "execution_count": 5,
     "metadata": {},
     "output_type": "execute_result"
    }
   ],
   "source": [
    "t = t.cuda()\n",
    "t"
   ]
  },
  {
   "cell_type": "code",
   "execution_count": 7,
   "id": "74ec7aa2",
   "metadata": {},
   "outputs": [
    {
     "data": {
      "text/plain": [
       "list"
      ]
     },
     "execution_count": 7,
     "metadata": {},
     "output_type": "execute_result"
    }
   ],
   "source": [
    "dd = [\n",
    "    [1,2,3],\n",
    "    [4,5,6],\n",
    "    [7,8,9]\n",
    "]\n",
    "\n",
    "type(dd)"
   ]
  },
  {
   "cell_type": "code",
   "execution_count": 12,
   "id": "310aa5ad",
   "metadata": {},
   "outputs": [
    {
     "data": {
      "text/plain": [
       "torch.Size([3, 3])"
      ]
     },
     "execution_count": 12,
     "metadata": {},
     "output_type": "execute_result"
    }
   ],
   "source": [
    "d = torch.tensor(dd)\n",
    "type(d)\n",
    "d.shape"
   ]
  },
  {
   "cell_type": "markdown",
   "id": "c2193b32",
   "metadata": {},
   "source": [
    "# Rank, Shape and axes"
   ]
  },
  {
   "cell_type": "code",
   "execution_count": 14,
   "id": "51b66556",
   "metadata": {},
   "outputs": [
    {
     "data": {
      "text/plain": [
       "2"
      ]
     },
     "execution_count": 14,
     "metadata": {},
     "output_type": "execute_result"
    }
   ],
   "source": [
    "# rank = length of the shape of the tensor\n",
    "len(d.shape)"
   ]
  },
  {
   "cell_type": "code",
   "execution_count": 21,
   "id": "3c3296ff",
   "metadata": {},
   "outputs": [
    {
     "data": {
      "text/plain": [
       "tensor([[1, 2, 3, 4, 5, 6, 7, 8, 9]])"
      ]
     },
     "execution_count": 21,
     "metadata": {},
     "output_type": "execute_result"
    }
   ],
   "source": [
    "d.reshape(1,9)"
   ]
  },
  {
   "cell_type": "code",
   "execution_count": 22,
   "id": "07d05a79",
   "metadata": {},
   "outputs": [
    {
     "data": {
      "text/plain": [
       "torch.Size([1, 9])"
      ]
     },
     "execution_count": 22,
     "metadata": {},
     "output_type": "execute_result"
    }
   ],
   "source": [
    "d.reshape(1,9).shape"
   ]
  },
  {
   "cell_type": "markdown",
   "id": "1356a19b",
   "metadata": {},
   "source": [
    "# pytorch tensors\n"
   ]
  },
  {
   "cell_type": "code",
   "execution_count": 24,
   "id": "e5689e9c",
   "metadata": {},
   "outputs": [
    {
     "data": {
      "text/plain": [
       "torch.Tensor"
      ]
     },
     "execution_count": 24,
     "metadata": {},
     "output_type": "execute_result"
    }
   ],
   "source": [
    "t = torch.Tensor()\n",
    "type(t)"
   ]
  },
  {
   "cell_type": "code",
   "execution_count": 32,
   "id": "82325553",
   "metadata": {},
   "outputs": [
    {
     "name": "stdout",
     "output_type": "stream",
     "text": [
      "torch.float32    cpu    torch.strided\n"
     ]
    }
   ],
   "source": [
    "print(t.dtype,\"  \" , t.device, \"  \", t.layout)"
   ]
  },
  {
   "cell_type": "code",
   "execution_count": 64,
   "id": "4974295e",
   "metadata": {},
   "outputs": [],
   "source": [
    "#device = torch.device('cuda:0')\n",
    "#device"
   ]
  },
  {
   "cell_type": "code",
   "execution_count": 5,
   "id": "067d7ce0",
   "metadata": {},
   "outputs": [],
   "source": [
    "t1 = torch.Tensor([1,2,3])\n",
    "t2 = torch.tensor([1., 2., 3.])\n",
    "t2 = t1.cuda()"
   ]
  },
  {
   "cell_type": "code",
   "execution_count": 7,
   "id": "94827fcb",
   "metadata": {},
   "outputs": [
    {
     "data": {
      "text/plain": [
       "device(type='cuda', index=0)"
      ]
     },
     "execution_count": 7,
     "metadata": {},
     "output_type": "execute_result"
    }
   ],
   "source": [
    "t2.device"
   ]
  },
  {
   "cell_type": "code",
   "execution_count": 8,
   "id": "808c01ff",
   "metadata": {},
   "outputs": [
    {
     "data": {
      "text/plain": [
       "device(type='cpu')"
      ]
     },
     "execution_count": 8,
     "metadata": {},
     "output_type": "execute_result"
    }
   ],
   "source": [
    "t1.device\n"
   ]
  },
  {
   "cell_type": "code",
   "execution_count": 10,
   "id": "65339cde",
   "metadata": {
    "collapsed": true
   },
   "outputs": [
    {
     "ename": "RuntimeError",
     "evalue": "expected device cpu but got device cuda:0",
     "output_type": "error",
     "traceback": [
      "\u001b[0;31m---------------------------------------------------------------------------\u001b[0m",
      "\u001b[0;31mRuntimeError\u001b[0m                              Traceback (most recent call last)",
      "\u001b[0;32m<ipython-input-10-cb7a96d8797f>\u001b[0m in \u001b[0;36m<module>\u001b[0;34m\u001b[0m\n\u001b[0;32m----> 1\u001b[0;31m \u001b[0mt1\u001b[0m\u001b[0;34m+\u001b[0m\u001b[0mt2\u001b[0m    \u001b[0;31m#not a legal operation when the devices are different\u001b[0m\u001b[0;34m\u001b[0m\u001b[0;34m\u001b[0m\u001b[0m\n\u001b[0m",
      "\u001b[0;31mRuntimeError\u001b[0m: expected device cpu but got device cuda:0"
     ]
    }
   ],
   "source": [
    "t1+t2    #not a legal operation when the devices are different"
   ]
  },
  {
   "cell_type": "code",
   "execution_count": 11,
   "id": "f74afbd3",
   "metadata": {},
   "outputs": [],
   "source": [
    "data = np.array([1,2,3,4,5,6,])"
   ]
  },
  {
   "cell_type": "code",
   "execution_count": 12,
   "id": "38d1d578",
   "metadata": {},
   "outputs": [
    {
     "data": {
      "text/plain": [
       "numpy.ndarray"
      ]
     },
     "execution_count": 12,
     "metadata": {},
     "output_type": "execute_result"
    }
   ],
   "source": [
    "type(data)"
   ]
  },
  {
   "cell_type": "code",
   "execution_count": 18,
   "id": "9a0720a8",
   "metadata": {},
   "outputs": [
    {
     "data": {
      "text/plain": [
       "torch.float32"
      ]
     },
     "execution_count": 18,
     "metadata": {},
     "output_type": "execute_result"
    }
   ],
   "source": [
    "#type(torch.Tensor(data))\n",
    "torch.Tensor(data).dtype"
   ]
  },
  {
   "cell_type": "code",
   "execution_count": 17,
   "id": "82cc5d0d",
   "metadata": {},
   "outputs": [
    {
     "data": {
      "text/plain": [
       "torch.int64"
      ]
     },
     "execution_count": 17,
     "metadata": {},
     "output_type": "execute_result"
    }
   ],
   "source": [
    "#torch.tensor(data)\n",
    "torch.tensor(data).dtype"
   ]
  },
  {
   "cell_type": "code",
   "execution_count": 20,
   "id": "a69bc5ed",
   "metadata": {},
   "outputs": [
    {
     "data": {
      "text/plain": [
       "torch.int64"
      ]
     },
     "execution_count": 20,
     "metadata": {},
     "output_type": "execute_result"
    }
   ],
   "source": [
    "#torch.as_tensor(data)\n",
    "torch.as_tensor(data).dtype"
   ]
  },
  {
   "cell_type": "code",
   "execution_count": 22,
   "id": "00edf94a",
   "metadata": {},
   "outputs": [
    {
     "data": {
      "text/plain": [
       "torch.int64"
      ]
     },
     "execution_count": 22,
     "metadata": {},
     "output_type": "execute_result"
    }
   ],
   "source": [
    "#torch.from_numpy(data)\n",
    "torch.from_numpy(data).dtype"
   ]
  },
  {
   "cell_type": "code",
   "execution_count": 28,
   "id": "5dfc562c",
   "metadata": {},
   "outputs": [
    {
     "data": {
      "text/plain": [
       "tensor([[1., 0., 0., 0., 0., 0., 0., 0., 0., 0.],\n",
       "        [0., 1., 0., 0., 0., 0., 0., 0., 0., 0.],\n",
       "        [0., 0., 1., 0., 0., 0., 0., 0., 0., 0.],\n",
       "        [0., 0., 0., 1., 0., 0., 0., 0., 0., 0.],\n",
       "        [0., 0., 0., 0., 1., 0., 0., 0., 0., 0.],\n",
       "        [0., 0., 0., 0., 0., 1., 0., 0., 0., 0.],\n",
       "        [0., 0., 0., 0., 0., 0., 1., 0., 0., 0.],\n",
       "        [0., 0., 0., 0., 0., 0., 0., 1., 0., 0.],\n",
       "        [0., 0., 0., 0., 0., 0., 0., 0., 1., 0.],\n",
       "        [0., 0., 0., 0., 0., 0., 0., 0., 0., 1.]])"
      ]
     },
     "execution_count": 28,
     "metadata": {},
     "output_type": "execute_result"
    }
   ],
   "source": [
    "torch.eye(10)"
   ]
  },
  {
   "cell_type": "code",
   "execution_count": 31,
   "id": "89ee6e93",
   "metadata": {},
   "outputs": [
    {
     "data": {
      "text/plain": [
       "tensor([[0., 0., 0., 0.],\n",
       "        [0., 0., 0., 0.],\n",
       "        [0., 0., 0., 0.]])"
      ]
     },
     "execution_count": 31,
     "metadata": {},
     "output_type": "execute_result"
    }
   ],
   "source": [
    "torch.zeros(3,4)"
   ]
  },
  {
   "cell_type": "code",
   "execution_count": 32,
   "id": "c1186e74",
   "metadata": {},
   "outputs": [
    {
     "data": {
      "text/plain": [
       "tensor([[1., 1., 1., 1.],\n",
       "        [1., 1., 1., 1.]])"
      ]
     },
     "execution_count": 32,
     "metadata": {},
     "output_type": "execute_result"
    }
   ],
   "source": [
    "torch.ones(2,4)"
   ]
  },
  {
   "cell_type": "code",
   "execution_count": 75,
   "id": "54ebdf43",
   "metadata": {},
   "outputs": [
    {
     "data": {
      "text/plain": [
       "tensor([[[8.4041, 2.9393, 7.9145, 3.0441],\n",
       "         [5.7946, 4.6996, 2.3154, 4.2617],\n",
       "         [3.9544, 0.7304, 3.4640, 7.6003]],\n",
       "\n",
       "        [[7.2867, 2.8907, 1.9586, 8.6607],\n",
       "         [4.6187, 0.8503, 7.9414, 0.2945],\n",
       "         [3.5196, 0.3942, 6.4408, 9.2145]]])"
      ]
     },
     "execution_count": 75,
     "metadata": {},
     "output_type": "execute_result"
    }
   ],
   "source": [
    "10*torch.rand(2,3,4)"
   ]
  },
  {
   "cell_type": "code",
   "execution_count": 78,
   "id": "c0b45c0a",
   "metadata": {},
   "outputs": [],
   "source": [
    "t1 = torch.Tensor(data)       #constuctor\n",
    "t2 = torch.tensor(data)       #factory funtions\n",
    "t3 = torch.as_tensor(data)    #factory funtions\n",
    "t4 = torch.from_numpy(data)   #factory funtions"
   ]
  },
  {
   "cell_type": "code",
   "execution_count": 79,
   "id": "12128fa6",
   "metadata": {},
   "outputs": [
    {
     "name": "stdout",
     "output_type": "stream",
     "text": [
      "torch.float32\n",
      "torch.int64\n",
      "torch.int64\n",
      "torch.int64\n"
     ]
    }
   ],
   "source": [
    "print(t1.dtype)\n",
    "print(t2.dtype)\n",
    "print(t3.dtype)\n",
    "print(t4.dtype)"
   ]
  },
  {
   "cell_type": "code",
   "execution_count": 80,
   "id": "7fc86e01",
   "metadata": {},
   "outputs": [
    {
     "data": {
      "text/plain": [
       "torch.float32"
      ]
     },
     "execution_count": 80,
     "metadata": {},
     "output_type": "execute_result"
    }
   ],
   "source": [
    "torch.get_default_dtype()"
   ]
  },
  {
   "cell_type": "code",
   "execution_count": 81,
   "id": "413ffbea",
   "metadata": {},
   "outputs": [
    {
     "data": {
      "text/plain": [
       "torch.int64"
      ]
     },
     "execution_count": 81,
     "metadata": {},
     "output_type": "execute_result"
    }
   ],
   "source": [
    "torch.tensor([1,2,3]).dtype"
   ]
  },
  {
   "cell_type": "code",
   "execution_count": 83,
   "id": "982ccb71",
   "metadata": {},
   "outputs": [
    {
     "data": {
      "text/plain": [
       "torch.float32"
      ]
     },
     "execution_count": 83,
     "metadata": {},
     "output_type": "execute_result"
    }
   ],
   "source": [
    "torch.tensor([1.,2.,3.]).dtype"
   ]
  },
  {
   "cell_type": "code",
   "execution_count": 89,
   "id": "a69437c9",
   "metadata": {},
   "outputs": [
    {
     "data": {
      "text/plain": [
       "torch.float32"
      ]
     },
     "execution_count": 89,
     "metadata": {},
     "output_type": "execute_result"
    }
   ],
   "source": [
    "#dtype can be inferred manually or else it will take \n",
    "#the given data category as dtype\n",
    "\n",
    "torch.tensor([1,2,3], dtype = torch.float32).dtype  #infered data_type"
   ]
  },
  {
   "cell_type": "markdown",
   "id": "c218913b",
   "metadata": {},
   "source": [
    " # Inter-operablity of numpy and Pytorch"
   ]
  },
  {
   "cell_type": "code",
   "execution_count": 90,
   "id": "fa4a9dea",
   "metadata": {},
   "outputs": [],
   "source": [
    "data = np.array([1,2,3])\n"
   ]
  },
  {
   "cell_type": "code",
   "execution_count": 91,
   "id": "b104e96c",
   "metadata": {},
   "outputs": [],
   "source": [
    "t1 = torch.Tensor(data)       #constuctor\n",
    "t2 = torch.tensor(data)       #factory funtions\n",
    "t3 = torch.as_tensor(data)    #factory funtions\n",
    "t4 = torch.from_numpy(data)   #factory funtions"
   ]
  },
  {
   "cell_type": "code",
   "execution_count": 92,
   "id": "46f4433a",
   "metadata": {},
   "outputs": [],
   "source": [
    "data[0] = 0\n",
    "data[1] = 0"
   ]
  },
  {
   "cell_type": "code",
   "execution_count": 93,
   "id": "c66757c5",
   "metadata": {},
   "outputs": [
    {
     "data": {
      "text/plain": [
       "tensor([1., 2., 3.])"
      ]
     },
     "execution_count": 93,
     "metadata": {},
     "output_type": "execute_result"
    }
   ],
   "source": [
    "t1"
   ]
  },
  {
   "cell_type": "code",
   "execution_count": 94,
   "id": "85809998",
   "metadata": {},
   "outputs": [
    {
     "data": {
      "text/plain": [
       "tensor([1, 2, 3])"
      ]
     },
     "execution_count": 94,
     "metadata": {},
     "output_type": "execute_result"
    }
   ],
   "source": [
    "t2"
   ]
  },
  {
   "cell_type": "code",
   "execution_count": 95,
   "id": "facca078",
   "metadata": {},
   "outputs": [
    {
     "data": {
      "text/plain": [
       "tensor([0, 0, 3])"
      ]
     },
     "execution_count": 95,
     "metadata": {},
     "output_type": "execute_result"
    }
   ],
   "source": [
    "t3"
   ]
  },
  {
   "cell_type": "code",
   "execution_count": 96,
   "id": "8210c79e",
   "metadata": {},
   "outputs": [
    {
     "data": {
      "text/plain": [
       "tensor([0, 0, 3])"
      ]
     },
     "execution_count": 96,
     "metadata": {},
     "output_type": "execute_result"
    }
   ],
   "source": [
    "t4"
   ]
  },
  {
   "cell_type": "markdown",
   "id": "84af8ee7",
   "metadata": {},
   "source": [
    "so here t3 and t4 changed when the numpy array(data) was edited\n"
   ]
  },
  {
   "cell_type": "markdown",
   "id": "edcda73f",
   "metadata": {},
   "source": [
    "# Flatten Reshape and Squeez operation \n",
    "\n"
   ]
  },
  {
   "cell_type": "code",
   "execution_count": 17,
   "id": "aed973e1",
   "metadata": {},
   "outputs": [],
   "source": [
    "t = torch.tensor([\n",
    "    [1,1,1,1],\n",
    "    [2,2,2,2],\n",
    "    [3,3,3,3]\n",
    "],dtype = torch.float32)\n"
   ]
  },
  {
   "cell_type": "code",
   "execution_count": 107,
   "id": "52d28db2",
   "metadata": {},
   "outputs": [
    {
     "data": {
      "text/plain": [
       "torch.Size([3, 4])"
      ]
     },
     "execution_count": 107,
     "metadata": {},
     "output_type": "execute_result"
    }
   ],
   "source": [
    "t.shape"
   ]
  },
  {
   "cell_type": "markdown",
   "id": "259c8ec2",
   "metadata": {},
   "source": [
    "shape is 3*4 rank is two and two axes first one of length\n",
    "3 and the second one is of length 4"
   ]
  },
  {
   "cell_type": "code",
   "execution_count": 115,
   "id": "a8478746",
   "metadata": {},
   "outputs": [
    {
     "data": {
      "text/plain": [
       "12"
      ]
     },
     "execution_count": 115,
     "metadata": {},
     "output_type": "execute_result"
    }
   ],
   "source": [
    "torch.tensor(t.shape).prod()    # to find the elements\n",
    "t.numel()"
   ]
  },
  {
   "cell_type": "markdown",
   "id": "aa8070b0",
   "metadata": {},
   "source": [
    "reshaping keeping the rank constant"
   ]
  },
  {
   "cell_type": "code",
   "execution_count": 120,
   "id": "acbf4d6a",
   "metadata": {},
   "outputs": [
    {
     "data": {
      "text/plain": [
       "tensor([[1.],\n",
       "        [1.],\n",
       "        [1.],\n",
       "        [1.],\n",
       "        [2.],\n",
       "        [2.],\n",
       "        [2.],\n",
       "        [2.],\n",
       "        [3.],\n",
       "        [3.],\n",
       "        [3.],\n",
       "        [3.]])"
      ]
     },
     "execution_count": 120,
     "metadata": {},
     "output_type": "execute_result"
    }
   ],
   "source": [
    "t.reshape(12,1)"
   ]
  },
  {
   "cell_type": "code",
   "execution_count": 121,
   "id": "1985ccc6",
   "metadata": {},
   "outputs": [
    {
     "data": {
      "text/plain": [
       "tensor([[1., 1., 1., 1., 2., 2.],\n",
       "        [2., 2., 3., 3., 3., 3.]])"
      ]
     },
     "execution_count": 121,
     "metadata": {},
     "output_type": "execute_result"
    }
   ],
   "source": [
    "t.reshape(2,6)"
   ]
  },
  {
   "cell_type": "code",
   "execution_count": 119,
   "id": "e765df98",
   "metadata": {},
   "outputs": [
    {
     "data": {
      "text/plain": [
       "tensor([[1., 1., 1.],\n",
       "        [1., 2., 2.],\n",
       "        [2., 2., 3.],\n",
       "        [3., 3., 3.]])"
      ]
     },
     "execution_count": 119,
     "metadata": {},
     "output_type": "execute_result"
    }
   ],
   "source": [
    "t.reshape(4,3)"
   ]
  },
  {
   "cell_type": "code",
   "execution_count": 122,
   "id": "194aa344",
   "metadata": {},
   "outputs": [
    {
     "data": {
      "text/plain": [
       "tensor([[[1., 1., 1.],\n",
       "         [1., 2., 2.]],\n",
       "\n",
       "        [[2., 2., 3.],\n",
       "         [3., 3., 3.]]])"
      ]
     },
     "execution_count": 122,
     "metadata": {},
     "output_type": "execute_result"
    }
   ],
   "source": [
    "#reshaping and changing the rank as well\n",
    "\n",
    "t.reshape(2,2,3)"
   ]
  },
  {
   "cell_type": "code",
   "execution_count": 123,
   "id": "84fa96ac",
   "metadata": {},
   "outputs": [
    {
     "name": "stdout",
     "output_type": "stream",
     "text": [
      "tensor([[1., 1., 1., 1., 2., 2., 2., 2., 3., 3., 3., 3.]])\n",
      "torch.Size([1, 12])\n"
     ]
    }
   ],
   "source": [
    "#squeezing and unsqueezing\n",
    "\n",
    "print(t.reshape(1,12))\n",
    "print(t.reshape(1,12).shape)"
   ]
  },
  {
   "cell_type": "code",
   "execution_count": 133,
   "id": "7b4b6805",
   "metadata": {},
   "outputs": [
    {
     "name": "stdout",
     "output_type": "stream",
     "text": [
      "tensor([1., 1., 1., 1., 2., 2., 2., 2., 3., 3., 3., 3.])\n",
      "torch.Size([12])\n"
     ]
    }
   ],
   "source": [
    "print(t.reshape(1,12).squeeze())\n",
    "print(t.reshape(1,12).squeeze().shape)"
   ]
  },
  {
   "cell_type": "markdown",
   "id": "31f40591",
   "metadata": {},
   "source": [
    "Sqeezing can change the rank by removing the axes with length one.unsqeezing does the opposite\n"
   ]
  },
  {
   "cell_type": "code",
   "execution_count": 127,
   "id": "d52ad40e",
   "metadata": {},
   "outputs": [
    {
     "name": "stdout",
     "output_type": "stream",
     "text": [
      "tensor([[1., 1., 1., 1., 2., 2., 2., 2., 3., 3., 3., 3.]])\n",
      "torch.Size([1, 12])\n"
     ]
    }
   ],
   "source": [
    "print(t.reshape(1,12).squeeze().unsqueeze(dim=0))\n",
    "print(t.reshape(1,12).squeeze().unsqueeze(dim=0).shape)"
   ]
  },
  {
   "cell_type": "code",
   "execution_count": 18,
   "id": "cbc1454e",
   "metadata": {},
   "outputs": [
    {
     "data": {
      "text/plain": [
       "tensor([[1., 1., 1., 1.],\n",
       "        [2., 2., 2., 2.],\n",
       "        [3., 3., 3., 3.]])"
      ]
     },
     "execution_count": 18,
     "metadata": {},
     "output_type": "execute_result"
    }
   ],
   "source": [
    "t\n"
   ]
  },
  {
   "cell_type": "code",
   "execution_count": 64,
   "id": "3ee717d1",
   "metadata": {},
   "outputs": [],
   "source": [
    "#flatten  (which is most  commonly used in fully connected r FC layers in CNN)\n",
    "\n",
    "def flatten(t):\n",
    "    t = t.reshape(1,-1)\n",
    "    t = t.squeeze()\n",
    "    return t\n",
    "\n"
   ]
  },
  {
   "cell_type": "code",
   "execution_count": 151,
   "id": "f645deec",
   "metadata": {},
   "outputs": [
    {
     "data": {
      "text/plain": [
       "tensor([1., 1., 1., 1., 2., 2., 2., 2., 3., 3., 3., 3.])"
      ]
     },
     "execution_count": 151,
     "metadata": {},
     "output_type": "execute_result"
    }
   ],
   "source": [
    "flatten(t)\n",
    "#flatten(t).shape"
   ]
  },
  {
   "cell_type": "code",
   "execution_count": 153,
   "id": "862fe845",
   "metadata": {},
   "outputs": [
    {
     "data": {
      "text/plain": [
       "torch.Size([12])"
      ]
     },
     "execution_count": 153,
     "metadata": {},
     "output_type": "execute_result"
    }
   ],
   "source": [
    "t.reshape(-1).shape     #flatten using reshape only"
   ]
  },
  {
   "cell_type": "code",
   "execution_count": 30,
   "id": "c3f80b49",
   "metadata": {},
   "outputs": [],
   "source": [
    "t.cuda = False"
   ]
  },
  {
   "cell_type": "code",
   "execution_count": 70,
   "id": "5f94a956",
   "metadata": {},
   "outputs": [],
   "source": [
    "def flatten2(t):\n",
    "    t = t.reshape(1, t.size()[0] * t.size()[1])\n",
    "    t = t.squeeze()\n",
    "    return t"
   ]
  },
  {
   "cell_type": "code",
   "execution_count": 68,
   "id": "cfff6652",
   "metadata": {},
   "outputs": [
    {
     "name": "stderr",
     "output_type": "stream",
     "text": [
      "<ipython-input-68-e0c6afb0e922>:1: UserWarning: To copy construct from a tensor, it is recommended to use sourceTensor.clone().detach() or sourceTensor.clone().detach().requires_grad_(True), rather than torch.tensor(sourceTensor).\n",
      "  newt = 10* torch.tensor(torch.rand(2,3,4))\n"
     ]
    },
    {
     "data": {
      "text/plain": [
       "tensor([[[2.2607, 9.2891, 2.0030, 0.7230],\n",
       "         [9.2255, 6.7446, 3.9113, 7.8691],\n",
       "         [6.4521, 2.3470, 2.0342, 6.5279]],\n",
       "\n",
       "        [[4.0419, 7.9188, 0.3654, 8.0977],\n",
       "         [2.5628, 4.0805, 2.0189, 5.6136],\n",
       "         [9.0102, 0.4750, 5.0406, 9.3952]]])"
      ]
     },
     "execution_count": 68,
     "metadata": {},
     "output_type": "execute_result"
    }
   ],
   "source": [
    "newt = 10* torch.tensor(torch.rand(2,3,4))\n",
    "newt "
   ]
  },
  {
   "cell_type": "code",
   "execution_count": 72,
   "id": "330606d8",
   "metadata": {},
   "outputs": [
    {
     "data": {
      "text/plain": [
       "tensor([1., 1., 1., 1., 2., 2., 2., 2., 3., 3., 3., 3.])"
      ]
     },
     "execution_count": 72,
     "metadata": {},
     "output_type": "execute_result"
    }
   ],
   "source": [
    "flatten2(t)"
   ]
  },
  {
   "cell_type": "code",
   "execution_count": 82,
   "id": "43cb815a",
   "metadata": {},
   "outputs": [
    {
     "data": {
      "text/plain": [
       "tensor([[1, 2, 4, 5, 4, 5],\n",
       "        [3, 4, 7, 8, 7, 8]])"
      ]
     },
     "execution_count": 82,
     "metadata": {},
     "output_type": "execute_result"
    }
   ],
   "source": [
    "# cascading two or more tensors\n",
    "\n",
    "t1 = torch.tensor([\n",
    "    [1,2],\n",
    "    [3,4]\n",
    "])\n",
    "\n",
    "t2 = torch.tensor([\n",
    "    [4,5],\n",
    "    [7,8]\n",
    "])\n",
    "\n",
    "t3 = t2\n",
    "\n",
    "torch.cat((t1,t2,t3), dim = -1)"
   ]
  },
  {
   "cell_type": "code",
   "execution_count": 83,
   "id": "9a457a5e",
   "metadata": {},
   "outputs": [],
   "source": [
    "class Lizard:\n",
    "    \n",
    "    \n",
    "    def __init__(self,name):\n",
    "        self.name = name\n",
    "        \n",
    "        \n",
    "    def set_name(self,name):\n",
    "        self.name = name\n",
    "        \n"
   ]
  },
  {
   "cell_type": "code",
   "execution_count": 86,
   "id": "4db8b4e6",
   "metadata": {},
   "outputs": [
    {
     "data": {
      "text/plain": [
       "'debu'"
      ]
     },
     "execution_count": 86,
     "metadata": {},
     "output_type": "execute_result"
    }
   ],
   "source": [
    "lizA = Lizard('debu')     #by calling the class default __init__ gets authorized\n",
    "lizA.name"
   ]
  },
  {
   "cell_type": "code",
   "execution_count": 89,
   "id": "2348be04",
   "metadata": {},
   "outputs": [
    {
     "data": {
      "text/plain": [
       "'new_name_set'"
      ]
     },
     "execution_count": 89,
     "metadata": {},
     "output_type": "execute_result"
    }
   ],
   "source": [
    "lizA.set_name('new_name_set')    # but we can change the method by defining out own method function within the class\n",
    "lizA.name"
   ]
  },
  {
   "cell_type": "code",
   "execution_count": null,
   "id": "7545dd09",
   "metadata": {},
   "outputs": [],
   "source": []
  }
 ],
 "metadata": {
  "kernelspec": {
   "display_name": "Python 3",
   "language": "python",
   "name": "python3"
  },
  "language_info": {
   "codemirror_mode": {
    "name": "ipython",
    "version": 3
   },
   "file_extension": ".py",
   "mimetype": "text/x-python",
   "name": "python",
   "nbconvert_exporter": "python",
   "pygments_lexer": "ipython3",
   "version": "3.8.5"
  }
 },
 "nbformat": 4,
 "nbformat_minor": 5
}
