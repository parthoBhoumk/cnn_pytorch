{
 "cells": [
  {
   "cell_type": "code",
   "execution_count": 1,
   "id": "b6f5a8bc",
   "metadata": {},
   "outputs": [
    {
     "data": {
      "text/plain": [
       "<torch.autograd.grad_mode.set_grad_enabled at 0x7fcafe58b730>"
      ]
     },
     "execution_count": 1,
     "metadata": {},
     "output_type": "execute_result"
    }
   ],
   "source": [
    "import torch \n",
    "import numpy as np\n",
    "import pandas  as pd\n",
    "import torch.nn as nn\n",
    "import torch.nn.functional as F\n",
    "import torch.optim as optim\n",
    "import torchvision\n",
    "import torchvision.transforms as transforms\n",
    "torch.set_printoptions(linewidth=120)\n",
    "torch.set_grad_enabled(True)"
   ]
  },
  {
   "cell_type": "code",
   "execution_count": 73,
   "id": "a15f1c89",
   "metadata": {},
   "outputs": [],
   "source": [
    "#r\"\"\" taking a closer look into the network class\n",
    "\n",
    "\n",
    "class Network(nn.Module):\n",
    "    def __init__(self):\n",
    "        super(Network,self).__init__()\n",
    "        \n",
    "        self.conv1 = nn.Conv2d(in_channels= 1, out_channels= 6 , kernel_size=5)\n",
    "        self.conv2 = nn.Conv2d(in_channels= 6, out_channels= 12 , kernel_size=5)\n",
    "        \n",
    "        self.fc1 = nn.Linear(in_features= 12*4*4 , out_features= 120)\n",
    "        self.fc2 = nn.Linear(in_features= 120, out_features= 60)\n",
    "        self.out = nn.Linear(in_features= 60, out_features= 10)\n",
    "\n",
    "    def forward(self,t):\n",
    "        \n",
    "        #1 inpput layer \n",
    "        \n",
    "        t = t\n",
    "        \n",
    "        #2 hidden conv layer\n",
    "        \n",
    "        t = self.conv1(t)\n",
    "        t = F.relu(t)\n",
    "        t = F.max_pool2d(t, kernel_size = 2 , stride = 2)\n",
    "        \n",
    "        #3 hidden conv layer \n",
    "        \n",
    "        t = self.conv2(t)\n",
    "        t = F.relu(t)\n",
    "        t = F.max_pool2d(t, kernel_size = 2 , stride = 2)\n",
    "        \n",
    "        #4 Linear layer \n",
    "        \n",
    "        t = t.reshape(-1, 12*4*4)     #flattening is hapening here\n",
    "        t = self.fc1(t)\n",
    "        t = F.relu(t)\n",
    "\n",
    "        \n",
    "        #5 Linear layer \n",
    "        \n",
    "        t = self.fc2(t)\n",
    "        t = F.relu(t)\n",
    "        \n",
    "        #6 output layer\n",
    "        \n",
    "        t = self.out(t)\n",
    "        # t = F.softmax(t,dim = 0)    but this line is not required because we will predict the output later and softmax will be used explicitly later\n",
    "        return t\n",
    "        \n",
    "#loading data from url of Mnist\n",
    "\n",
    "train_set = torchvision.datasets.FashionMNIST(\n",
    "        root = './data'\n",
    "        ,train = True\n",
    "        ,download=True\n",
    "        ,transform = transforms.Compose([\n",
    "            transforms.ToTensor()\n",
    "        ])\n",
    "    \n",
    ")\n",
    "\n",
    "        \n",
    "data_loader = torch.utils.data.DataLoader(train_set,\n",
    "                    batch_size= 100                  \n",
    "                    )\n",
    "batch = next(iter(data_loader))\n",
    "images,labels = batch"
   ]
  },
  {
   "cell_type": "code",
   "execution_count": 3,
   "id": "eba6bd78",
   "metadata": {},
   "outputs": [],
   "source": [
    "mynet = Network()\n",
    "preds = mynet(images)"
   ]
  },
  {
   "cell_type": "markdown",
   "id": "e166f7a8",
   "metadata": {},
   "source": [
    "# Calculating the loss "
   ]
  },
  {
   "cell_type": "code",
   "execution_count": 5,
   "id": "c09fa863",
   "metadata": {},
   "outputs": [
    {
     "data": {
      "text/plain": [
       "2.3140082359313965"
      ]
     },
     "execution_count": 5,
     "metadata": {},
     "output_type": "execute_result"
    }
   ],
   "source": [
    "loss = F.cross_entropy(preds,labels)\n",
    "loss.item()"
   ]
  },
  {
   "cell_type": "markdown",
   "id": "918c3e3a",
   "metadata": {},
   "source": [
    "# Calculating the gradient "
   ]
  },
  {
   "cell_type": "code",
   "execution_count": 6,
   "id": "a64a1c61",
   "metadata": {},
   "outputs": [
    {
     "name": "stdout",
     "output_type": "stream",
     "text": [
      "None\n"
     ]
    }
   ],
   "source": [
    "print(mynet.conv1.weight.grad)"
   ]
  },
  {
   "cell_type": "code",
   "execution_count": 7,
   "id": "a85c8a63",
   "metadata": {},
   "outputs": [],
   "source": [
    "#the oputput is none bcause no gradient has yet been calculated as no back propagation has occured\n",
    "\n",
    "# so we call the backward function now to find the gradients \n",
    "\n",
    "loss.backward()   # calculating the gradient \n"
   ]
  },
  {
   "cell_type": "code",
   "execution_count": 8,
   "id": "9d206ae3",
   "metadata": {},
   "outputs": [
    {
     "name": "stdout",
     "output_type": "stream",
     "text": [
      "torch.Size([6, 1, 5, 5])\n"
     ]
    }
   ],
   "source": [
    "print(mynet.conv1.weight.grad.shape) # the output looks like the weight tensor we saw earlier\n"
   ]
  },
  {
   "cell_type": "markdown",
   "id": "39dd6b44",
   "metadata": {},
   "source": [
    "# Updating the Gradient"
   ]
  },
  {
   "cell_type": "code",
   "execution_count": 9,
   "id": "cb921d1a",
   "metadata": {},
   "outputs": [],
   "source": [
    "my_optimizer = optim.Adam(mynet.parameters(), lr= .001)\n",
    "my_optimizer.step()  "
   ]
  },
  {
   "cell_type": "markdown",
   "id": "67951803",
   "metadata": {},
   "source": [
    "# Wrap up"
   ]
  },
  {
   "cell_type": "code",
   "execution_count": 4,
   "id": "32ec3cae",
   "metadata": {},
   "outputs": [],
   "source": [
    "def get_num_correct(preds,labels):\n",
    "    \n",
    "    return preds.argmax(dim = 1).eq(labels).sum().item()\n",
    "\n"
   ]
  },
  {
   "cell_type": "code",
   "execution_count": 74,
   "id": "a1d117af",
   "metadata": {},
   "outputs": [
    {
     "name": "stdout",
     "output_type": "stream",
     "text": [
      "epoch: 0 total loss: 328.37875857949257 total correct: 47704\n",
      "epoch: 1 total loss: 235.34097290039062 total correct: 51332\n",
      "epoch: 2 total loss: 220.23927380144596 total correct: 51805\n",
      "epoch: 3 total loss: 210.4548183977604 total correct: 52191\n",
      "epoch: 4 total loss: 201.314255297184 total correct: 52542\n"
     ]
    }
   ],
   "source": [
    "\n",
    "\n",
    "test_net = Network()\n",
    "\n",
    "train_loader = torch.utils.data.DataLoader(train_set, batch_size=100)\n",
    "optimizer = optim.Adam(test_net.parameters(), lr=0.01)\n",
    "\n",
    "\n",
    "for epoch in range(5):\n",
    "    total_loss = 0\n",
    "    total_correct = 0\n",
    "    for batch in train_loader:                      # Get Batch\n",
    "        images, labels = batch\n",
    "\n",
    "        preds = test_net(images) # Pass Batch\n",
    "        loss = F.cross_entropy(preds, labels) # Calculate Loss\n",
    "        optimizer.zero_grad()\n",
    "        loss.backward() # Calculate Gradients\n",
    "        optimizer.step() # Update Weights\n",
    "        total_loss += loss.item()\n",
    "        \n",
    "        total_correct += get_num_correct(preds,labels)\n",
    "\n",
    "    print(\"epoch:\", epoch  , \"total loss:\", total_loss, \"total correct:\" ,total_correct )\n",
    "\n",
    "\n"
   ]
  },
  {
   "cell_type": "markdown",
   "id": "f8d57d9a",
   "metadata": {},
   "source": [
    "# now lets build the confusion matrix"
   ]
  },
  {
   "cell_type": "code",
   "execution_count": 52,
   "id": "39a2fafb",
   "metadata": {},
   "outputs": [],
   "source": [
    "r\"\"\"#@torch.no_grad()                        #we are going to predict the output so no need to keep track of the gradient values(mmory utilization)\n",
    "def get_all_preds(model,loader):\n",
    "    \n",
    "    all_preds = torch.tensor([])\n",
    "    for batch in loader:\n",
    "        images, lables = batch\n",
    "        preds = model(images)\n",
    "        all_preds = torch.cat((all_preds,preds),dim = 0)\n",
    "    return all_preds\n",
    "\n",
    "        "
   ]
  },
  {
   "cell_type": "code",
   "execution_count": 61,
   "id": "f6faf44f",
   "metadata": {},
   "outputs": [],
   "source": [
    "def get_all_preds(model, loader):\n",
    "    all_preds = torch.tensor([])\n",
    "    for batch in loader:\n",
    "        images, labels = batch\n",
    "\n",
    "        preds = model(images)\n",
    "        all_preds = torch.cat(\n",
    "            (all_preds, preds)\n",
    "            ,dim=0\n",
    "        )\n",
    "    return all_preds"
   ]
  },
  {
   "cell_type": "code",
   "execution_count": 62,
   "id": "75389d57",
   "metadata": {},
   "outputs": [],
   "source": [
    "with torch.no_grad():\n",
    "    prediction_loader = torch.utils.data.DataLoader(train_set, batch_size=100)\n",
    "    train_preds = get_all_preds(test_net, prediction_loader)"
   ]
  },
  {
   "cell_type": "code",
   "execution_count": 63,
   "id": "2379b278",
   "metadata": {},
   "outputs": [
    {
     "data": {
      "text/plain": [
       "torch.Size([60000, 10])"
      ]
     },
     "execution_count": 63,
     "metadata": {},
     "output_type": "execute_result"
    }
   ],
   "source": [
    "train_preds.shape"
   ]
  },
  {
   "cell_type": "code",
   "execution_count": 64,
   "id": "51b9318b",
   "metadata": {},
   "outputs": [
    {
     "data": {
      "text/plain": [
       "53392"
      ]
     },
     "execution_count": 64,
     "metadata": {},
     "output_type": "execute_result"
    }
   ],
   "source": [
    "preds_correct = get_num_correct(train_preds, train_set.targets)\n",
    "preds_correct"
   ]
  },
  {
   "cell_type": "code",
   "execution_count": 65,
   "id": "1a456995",
   "metadata": {},
   "outputs": [
    {
     "name": "stdout",
     "output_type": "stream",
     "text": [
      "total correct predictions: 53392\n",
      "accuracy: 0.8898666666666667\n"
     ]
    }
   ],
   "source": [
    "print(\"total correct predictions:\" , preds_correct)\n",
    "print(\"accuracy:\" , preds_correct/len(train_set))"
   ]
  },
  {
   "cell_type": "code",
   "execution_count": 24,
   "id": "73b4426a",
   "metadata": {},
   "outputs": [],
   "source": [
    "stacked = torch.stack((train_set.targets, train_preds.argmax(dim=1)),dim=1)"
   ]
  },
  {
   "cell_type": "code",
   "execution_count": 26,
   "id": "fad3a38d",
   "metadata": {},
   "outputs": [
    {
     "data": {
      "text/plain": [
       "torch.Size([60000, 2])"
      ]
     },
     "execution_count": 26,
     "metadata": {},
     "output_type": "execute_result"
    }
   ],
   "source": [
    "stacked.shape"
   ]
  },
  {
   "cell_type": "code",
   "execution_count": 27,
   "id": "6693f534",
   "metadata": {},
   "outputs": [
    {
     "data": {
      "text/plain": [
       "[9, 9]"
      ]
     },
     "execution_count": 27,
     "metadata": {},
     "output_type": "execute_result"
    }
   ],
   "source": [
    "stacked[0].tolist()"
   ]
  },
  {
   "cell_type": "code",
   "execution_count": 28,
   "id": "4d127eb0",
   "metadata": {},
   "outputs": [],
   "source": []
  },
  {
   "cell_type": "code",
   "execution_count": 34,
   "id": "c2d6d495",
   "metadata": {},
   "outputs": [],
   "source": [
    "cmt = torch.zeros(10,10,dtype = torch.int32)\n",
    "for p in stacked:\n",
    "    true_label,predicted_label = p\n",
    "    cmt[true_label,predicted_label] = cmt[true_label,predicted_label]+1"
   ]
  },
  {
   "cell_type": "code",
   "execution_count": 35,
   "id": "3fcbe946",
   "metadata": {},
   "outputs": [
    {
     "data": {
      "text/plain": [
       "tensor([[5485,   11,  127,  126,   10,    1,  188,    0,   52,    0],\n",
       "        [  34, 5868,    6,   76,    6,    0,    6,    0,    4,    0],\n",
       "        [  73,    4, 4931,   63,  475,    1,  400,    0,   52,    1],\n",
       "        [ 211,   75,   40, 5470,  114,    1,   83,    0,    6,    0],\n",
       "        [  17,    8,  535,  282, 4700,    1,  431,    0,   26,    0],\n",
       "        [   0,    0,    0,    1,    0, 5733,    1,  117,   24,  124],\n",
       "        [1415,   14,  713,  129,  491,    0, 3153,    0,   85,    0],\n",
       "        [   0,    0,    0,    0,    0,   74,    0, 5728,   18,  180],\n",
       "        [  12,    3,   18,   27,   18,    5,   26,    2, 5887,    2],\n",
       "        [   0,    0,    0,    2,    0,   19,    0,  171,   10, 5798]], dtype=torch.int32)"
      ]
     },
     "execution_count": 35,
     "metadata": {},
     "output_type": "execute_result"
    }
   ],
   "source": [
    "cmt"
   ]
  },
  {
   "cell_type": "code",
   "execution_count": 39,
   "id": "c2f6bf36",
   "metadata": {},
   "outputs": [],
   "source": [
    "import matplotlib.pyplot as plt\n",
    "\n",
    "from sklearn.metrics import confusion_matrix\n"
   ]
  },
  {
   "cell_type": "code",
   "execution_count": 42,
   "id": "c0dc9caa",
   "metadata": {},
   "outputs": [],
   "source": [
    "cm = confusion_matrix(train_set.targets , train_preds.argmax(dim=1))"
   ]
  },
  {
   "cell_type": "markdown",
   "id": "9fe9478b",
   "metadata": {},
   "source": []
  },
  {
   "cell_type": "code",
   "execution_count": 44,
   "id": "f3ebe0d0",
   "metadata": {},
   "outputs": [
    {
     "name": "stdout",
     "output_type": "stream",
     "text": [
      "<class 'numpy.ndarray'>\n"
     ]
    },
    {
     "data": {
      "text/plain": [
       "array([[5485,   11,  127,  126,   10,    1,  188,    0,   52,    0],\n",
       "       [  34, 5868,    6,   76,    6,    0,    6,    0,    4,    0],\n",
       "       [  73,    4, 4931,   63,  475,    1,  400,    0,   52,    1],\n",
       "       [ 211,   75,   40, 5470,  114,    1,   83,    0,    6,    0],\n",
       "       [  17,    8,  535,  282, 4700,    1,  431,    0,   26,    0],\n",
       "       [   0,    0,    0,    1,    0, 5733,    1,  117,   24,  124],\n",
       "       [1415,   14,  713,  129,  491,    0, 3153,    0,   85,    0],\n",
       "       [   0,    0,    0,    0,    0,   74,    0, 5728,   18,  180],\n",
       "       [  12,    3,   18,   27,   18,    5,   26,    2, 5887,    2],\n",
       "       [   0,    0,    0,    2,    0,   19,    0,  171,   10, 5798]])"
      ]
     },
     "execution_count": 44,
     "metadata": {},
     "output_type": "execute_result"
    }
   ],
   "source": [
    "print(type(cm))\n",
    "cm"
   ]
  },
  {
   "cell_type": "code",
   "execution_count": 47,
   "id": "07051b5b",
   "metadata": {},
   "outputs": [],
   "source": [
    "import itertools\n",
    "import numpy as np\n",
    "import matplotlib.pyplot as plt\n",
    "\n",
    "def plot_confusion_matrix(cm, classes, normalize=False, title='Confusion matrix', cmap=plt.cm.Blues):\n",
    "    if normalize:\n",
    "        cm = cm.astype('float') / cm.sum(axis=1)[:, np.newaxis]\n",
    "        print(\"Normalized confusion matrix\")\n",
    "    else:\n",
    "        print('Confusion matrix, without normalization')\n",
    "\n",
    "    print(cm)\n",
    "    plt.imshow(cm, interpolation='nearest', cmap=cmap)\n",
    "    plt.title(title)\n",
    "    plt.colorbar()\n",
    "    tick_marks = np.arange(len(classes))\n",
    "    plt.xticks(tick_marks, classes, rotation=45)\n",
    "    plt.yticks(tick_marks, classes)\n",
    "\n",
    "    fmt = '.2f' if normalize else 'd'\n",
    "    thresh = cm.max() / 2.\n",
    "    for i, j in itertools.product(range(cm.shape[0]), range(cm.shape[1])):\n",
    "        plt.text(j, i, format(cm[i, j], fmt), horizontalalignment=\"center\", color=\"white\" if cm[i, j] > thresh else \"black\")\n",
    "\n",
    "    plt.tight_layout()\n",
    "    plt.ylabel('True label')\n",
    "    plt.xlabel('Predicted label')"
   ]
  },
  {
   "cell_type": "code",
   "execution_count": 45,
   "id": "de850347",
   "metadata": {},
   "outputs": [],
   "source": [
    "classes = ('T-shirt','trouser','pull-over', 'dress','coat','sandal','shirt','sneaker','bag','ankle-coat')"
   ]
  },
  {
   "cell_type": "code",
   "execution_count": 54,
   "id": "f4fc7e0b",
   "metadata": {},
   "outputs": [
    {
     "name": "stdout",
     "output_type": "stream",
     "text": [
      "Confusion matrix, without normalization\n",
      "[[5485   11  127  126   10    1  188    0   52    0]\n",
      " [  34 5868    6   76    6    0    6    0    4    0]\n",
      " [  73    4 4931   63  475    1  400    0   52    1]\n",
      " [ 211   75   40 5470  114    1   83    0    6    0]\n",
      " [  17    8  535  282 4700    1  431    0   26    0]\n",
      " [   0    0    0    1    0 5733    1  117   24  124]\n",
      " [1415   14  713  129  491    0 3153    0   85    0]\n",
      " [   0    0    0    0    0   74    0 5728   18  180]\n",
      " [  12    3   18   27   18    5   26    2 5887    2]\n",
      " [   0    0    0    2    0   19    0  171   10 5798]]\n"
     ]
    },
    {
     "data": {
      "image/png": "[encoded data removed]",
      "text/plain": [
       "<Figure size 720x720 with 2 Axes>"
      ]
     },
     "metadata": {
      "needs_background": "light"
     },
     "output_type": "display_data"
    }
   ],
   "source": [
    "plt.figure(figsize=(10,10))\n",
    "plot_confusion_matrix(cm,classes)"
   ]
  },
  {
   "cell_type": "code",
   "execution_count": null,
   "id": "48fa831b",
   "metadata": {},
   "outputs": [],
   "source": []
  }
 ],
 "metadata": {
  "kernelspec": {
   "display_name": "Python 3",
   "language": "python",
   "name": "python3"
  },
  "language_info": {
   "codemirror_mode": {
    "name": "ipython",
    "version": 3
   },
   "file_extension": ".py",
   "mimetype": "text/x-python",
   "name": "python",
   "nbconvert_exporter": "python",
   "pygments_lexer": "ipython3",
   "version": "3.8.10"
  }
 },
 "nbformat": 4,
 "nbformat_minor": 5
}
