{
 "cells": [
  {
   "cell_type": "code",
   "execution_count": 51,
   "id": "5366c285",
   "metadata": {},
   "outputs": [],
   "source": [
    "import torch\n",
    "import torchvision       # give access to datasets,model architectures and image transformation for computer vision\n",
    "import torchvision.transforms as transforms  #for image preocessing\n",
    "import numpy as np\n",
    "import pandas as pd\n",
    "import matplotlib.pyplot as plt\n"
   ]
  },
  {
   "cell_type": "code",
   "execution_count": 7,
   "id": "2cf4ab90",
   "metadata": {
    "collapsed": true
   },
   "outputs": [
    {
     "name": "stdout",
     "output_type": "stream",
     "text": [
      "Downloading http://fashion-mnist.s3-website.eu-central-1.amazonaws.com/train-images-idx3-ubyte.gz to ./data/FashionMNIST/raw/train-images-idx3-ubyte.gz\n"
     ]
    },
    {
     "name": "stderr",
     "output_type": "stream",
     "text": [
      "100.0%"
     ]
    },
    {
     "name": "stdout",
     "output_type": "stream",
     "text": [
      "Extracting ./data/FashionMNIST/raw/train-images-idx3-ubyte.gz to ./data/FashionMNIST/raw\n",
      "Downloading http://fashion-mnist.s3-website.eu-central-1.amazonaws.com/train-labels-idx1-ubyte.gz to ./data/FashionMNIST/raw/train-labels-idx1-ubyte.gz\n"
     ]
    },
    {
     "name": "stderr",
     "output_type": "stream",
     "text": [
      "111.0%"
     ]
    },
    {
     "name": "stdout",
     "output_type": "stream",
     "text": [
      "Extracting ./data/FashionMNIST/raw/train-labels-idx1-ubyte.gz to ./data/FashionMNIST/raw\n",
      "Downloading http://fashion-mnist.s3-website.eu-central-1.amazonaws.com/t10k-images-idx3-ubyte.gz to ./data/FashionMNIST/raw/t10k-images-idx3-ubyte.gz\n"
     ]
    },
    {
     "name": "stderr",
     "output_type": "stream",
     "text": [
      "100.0%"
     ]
    },
    {
     "name": "stdout",
     "output_type": "stream",
     "text": [
      "Extracting ./data/FashionMNIST/raw/t10k-images-idx3-ubyte.gz to ./data/FashionMNIST/raw\n",
      "Downloading http://fashion-mnist.s3-website.eu-central-1.amazonaws.com/t10k-labels-idx1-ubyte.gz to ./data/FashionMNIST/raw/t10k-labels-idx1-ubyte.gz\n"
     ]
    },
    {
     "name": "stderr",
     "output_type": "stream",
     "text": [
      "159.1%"
     ]
    },
    {
     "name": "stdout",
     "output_type": "stream",
     "text": [
      "Extracting ./data/FashionMNIST/raw/t10k-labels-idx1-ubyte.gz to ./data/FashionMNIST/raw\n",
      "Processing...\n",
      "Done!\n"
     ]
    }
   ],
   "source": [
    "#loading fasionmnist dataset\n",
    "\n",
    "train_set = torchvision.datasets.FashionMNIST(\n",
    "    root = './data'\n",
    "    ,train = True\n",
    "    ,download=True\n",
    "    ,transform = transforms.Compose([\n",
    "        transforms.ToTensor()\n",
    "    ])\n",
    ")"
   ]
  },
  {
   "cell_type": "code",
   "execution_count": 25,
   "id": "24c067ee",
   "metadata": {},
   "outputs": [
    {
     "data": {
      "text/plain": [
       "Dataset FashionMNIST\n",
       "    Number of datapoints: 60000\n",
       "    Root location: ./data\n",
       "    Split: Train\n",
       "    StandardTransform\n",
       "Transform: Compose(\n",
       "               ToTensor()\n",
       "           )"
      ]
     },
     "execution_count": 25,
     "metadata": {},
     "output_type": "execute_result"
    }
   ],
   "source": [
    "train_set"
   ]
  },
  {
   "cell_type": "code",
   "execution_count": 97,
   "id": "9f53b41f",
   "metadata": {},
   "outputs": [],
   "source": [
    "train_loader = torch.utils.data.DataLoader(train_set,\n",
    "\n",
    "                                           \n",
    "                batch_size  = 100,shuffle = True\n",
    ")"
   ]
  },
  {
   "cell_type": "code",
   "execution_count": 44,
   "id": "d32877da",
   "metadata": {},
   "outputs": [],
   "source": [
    "a = []\n",
    "for i in train_loader:\n",
    "    a.append(i)\n"
   ]
  },
  {
   "cell_type": "code",
   "execution_count": 45,
   "id": "520bd71c",
   "metadata": {},
   "outputs": [
    {
     "data": {
      "text/plain": [
       "6000"
      ]
     },
     "execution_count": 45,
     "metadata": {},
     "output_type": "execute_result"
    }
   ],
   "source": [
    "len(a)"
   ]
  },
  {
   "cell_type": "code",
   "execution_count": 47,
   "id": "47ebd12f",
   "metadata": {},
   "outputs": [],
   "source": [
    "torch.set_printoptions(linewidth=120)"
   ]
  },
  {
   "cell_type": "code",
   "execution_count": 48,
   "id": "b22d0214",
   "metadata": {},
   "outputs": [
    {
     "data": {
      "text/plain": [
       "60000"
      ]
     },
     "execution_count": 48,
     "metadata": {},
     "output_type": "execute_result"
    }
   ],
   "source": [
    "len(train_set)"
   ]
  },
  {
   "cell_type": "code",
   "execution_count": 57,
   "id": "aed91b08",
   "metadata": {},
   "outputs": [
    {
     "data": {
      "text/plain": [
       "tensor([9, 0, 0,  ..., 3, 0, 5])"
      ]
     },
     "execution_count": 57,
     "metadata": {},
     "output_type": "execute_result"
    }
   ],
   "source": [
    "train_set.train_labels"
   ]
  },
  {
   "cell_type": "code",
   "execution_count": 56,
   "id": "f4ae1bbc",
   "metadata": {
    "collapsed": true
   },
   "outputs": [
    {
     "data": {
      "text/plain": [
       "[9,\n",
       " 0,\n",
       " 0,\n",
       " 3,\n",
       " 0,\n",
       " 2,\n",
       " 7,\n",
       " 2,\n",
       " 5,\n",
       " 5,\n",
       " 0,\n",
       " 9,\n",
       " 5,\n",
       " 5,\n",
       " 7,\n",
       " 9,\n",
       " 1,\n",
       " 0,\n",
       " 6,\n",
       " 4,\n",
       " 3,\n",
       " 1,\n",
       " 4,\n",
       " 8,\n",
       " 4,\n",
       " 3,\n",
       " 0,\n",
       " 2,\n",
       " 4,\n",
       " 4,\n",
       " 5,\n",
       " 3,\n",
       " 6,\n",
       " 6,\n",
       " 0,\n",
       " 8,\n",
       " 5,\n",
       " 2,\n",
       " 1,\n",
       " 6,\n",
       " 6,\n",
       " 7,\n",
       " 9,\n",
       " 5,\n",
       " 9,\n",
       " 2,\n",
       " 7,\n",
       " 3,\n",
       " 0,\n",
       " 3,\n",
       " 3,\n",
       " 3,\n",
       " 7,\n",
       " 2,\n",
       " 2,\n",
       " 6,\n",
       " 6,\n",
       " 8,\n",
       " 3,\n",
       " 3,\n",
       " 5,\n",
       " 0,\n",
       " 5,\n",
       " 5,\n",
       " 0,\n",
       " 2,\n",
       " 0,\n",
       " 0,\n",
       " 4,\n",
       " 1,\n",
       " 3,\n",
       " 1,\n",
       " 6,\n",
       " 3,\n",
       " 1,\n",
       " 4,\n",
       " 4,\n",
       " 6,\n",
       " 1,\n",
       " 9,\n",
       " 1,\n",
       " 3,\n",
       " 5,\n",
       " 7,\n",
       " 9,\n",
       " 7,\n",
       " 1,\n",
       " 7,\n",
       " 9,\n",
       " 9,\n",
       " 9,\n",
       " 3,\n",
       " 2,\n",
       " 9,\n",
       " 3,\n",
       " 6,\n",
       " 4,\n",
       " 1,\n",
       " 1,\n",
       " 8,\n",
       " 8,\n",
       " 0,\n",
       " 1,\n",
       " 1,\n",
       " 6,\n",
       " 8,\n",
       " 1,\n",
       " 9,\n",
       " 7,\n",
       " 8,\n",
       " 8,\n",
       " 9,\n",
       " 6,\n",
       " 6,\n",
       " 3,\n",
       " 1,\n",
       " 5,\n",
       " 4,\n",
       " 6,\n",
       " 7,\n",
       " 5,\n",
       " 5,\n",
       " 9,\n",
       " 2,\n",
       " 2,\n",
       " 2,\n",
       " 7,\n",
       " 6,\n",
       " 4,\n",
       " 1,\n",
       " 8,\n",
       " 7,\n",
       " 7,\n",
       " 5,\n",
       " 4,\n",
       " 2,\n",
       " 9,\n",
       " 1,\n",
       " 7,\n",
       " 4,\n",
       " 6,\n",
       " 9,\n",
       " 7,\n",
       " 1,\n",
       " 8,\n",
       " 7,\n",
       " 1,\n",
       " 2,\n",
       " 8,\n",
       " 0,\n",
       " 9,\n",
       " 1,\n",
       " 8,\n",
       " 7,\n",
       " 0,\n",
       " 5,\n",
       " 8,\n",
       " 6,\n",
       " 7,\n",
       " 2,\n",
       " 0,\n",
       " 8,\n",
       " 7,\n",
       " 1,\n",
       " 6,\n",
       " 2,\n",
       " 1,\n",
       " 9,\n",
       " 6,\n",
       " 0,\n",
       " 1,\n",
       " 0,\n",
       " 5,\n",
       " 5,\n",
       " 1,\n",
       " 7,\n",
       " 0,\n",
       " 5,\n",
       " 8,\n",
       " 4,\n",
       " 0,\n",
       " 4,\n",
       " 0,\n",
       " 6,\n",
       " 6,\n",
       " 4,\n",
       " 0,\n",
       " 0,\n",
       " 4,\n",
       " 7,\n",
       " 3,\n",
       " 0,\n",
       " 5,\n",
       " 8,\n",
       " 4,\n",
       " 1,\n",
       " 1,\n",
       " 2,\n",
       " 9,\n",
       " 2,\n",
       " 8,\n",
       " 5,\n",
       " 0,\n",
       " 6,\n",
       " 3,\n",
       " 4,\n",
       " 6,\n",
       " 0,\n",
       " 9,\n",
       " 1,\n",
       " 7,\n",
       " 3,\n",
       " 8,\n",
       " 5,\n",
       " 8,\n",
       " 3,\n",
       " 8,\n",
       " 5,\n",
       " 2,\n",
       " 0,\n",
       " 8,\n",
       " 7,\n",
       " 0,\n",
       " 3,\n",
       " 5,\n",
       " 0,\n",
       " 6,\n",
       " 5,\n",
       " 2,\n",
       " 7,\n",
       " 5,\n",
       " 2,\n",
       " 6,\n",
       " 8,\n",
       " 2,\n",
       " 6,\n",
       " 8,\n",
       " 0,\n",
       " 4,\n",
       " 4,\n",
       " 4,\n",
       " 4,\n",
       " 4,\n",
       " 1,\n",
       " 5,\n",
       " 6,\n",
       " 5,\n",
       " 3,\n",
       " 3,\n",
       " 7,\n",
       " 3,\n",
       " 3,\n",
       " 6,\n",
       " 2,\n",
       " 8,\n",
       " 4,\n",
       " 6,\n",
       " 5,\n",
       " 9,\n",
       " 3,\n",
       " 2,\n",
       " 3,\n",
       " 2,\n",
       " 4,\n",
       " 4,\n",
       " 8,\n",
       " 2,\n",
       " 5,\n",
       " 3,\n",
       " 0,\n",
       " 7,\n",
       " 2,\n",
       " 0,\n",
       " 2,\n",
       " 5,\n",
       " 7,\n",
       " 2,\n",
       " 3,\n",
       " 1,\n",
       " 7,\n",
       " 6,\n",
       " 2,\n",
       " 9,\n",
       " 1,\n",
       " 9,\n",
       " 1,\n",
       " 1,\n",
       " 8,\n",
       " 7,\n",
       " 8,\n",
       " 4,\n",
       " 2,\n",
       " 6,\n",
       " 6,\n",
       " 7,\n",
       " 9,\n",
       " 4,\n",
       " 6,\n",
       " 1,\n",
       " 9,\n",
       " 5,\n",
       " 6,\n",
       " 0,\n",
       " 5,\n",
       " 0,\n",
       " 1,\n",
       " 6,\n",
       " 1,\n",
       " 1,\n",
       " 6,\n",
       " 7,\n",
       " 4,\n",
       " 4,\n",
       " 8,\n",
       " 6,\n",
       " 4,\n",
       " 6,\n",
       " 9,\n",
       " 3,\n",
       " 7,\n",
       " 5,\n",
       " 0,\n",
       " 8,\n",
       " 3,\n",
       " 4,\n",
       " 0,\n",
       " 3,\n",
       " 3,\n",
       " 2,\n",
       " 0,\n",
       " 1,\n",
       " 0,\n",
       " 3,\n",
       " 8,\n",
       " 3,\n",
       " 9,\n",
       " 1,\n",
       " 9,\n",
       " 0,\n",
       " 4,\n",
       " 7,\n",
       " 7,\n",
       " 8,\n",
       " 5,\n",
       " 6,\n",
       " 5,\n",
       " 6,\n",
       " 8,\n",
       " 2,\n",
       " 5,\n",
       " 2,\n",
       " 3,\n",
       " 1,\n",
       " 6,\n",
       " 0,\n",
       " 7,\n",
       " 8,\n",
       " 7,\n",
       " 8,\n",
       " 1,\n",
       " 9,\n",
       " 6,\n",
       " 4,\n",
       " 5,\n",
       " 7,\n",
       " 1,\n",
       " 7,\n",
       " 6,\n",
       " 6,\n",
       " 7,\n",
       " 3,\n",
       " 5,\n",
       " 8,\n",
       " 7,\n",
       " 3,\n",
       " 3,\n",
       " 9,\n",
       " 0,\n",
       " 3,\n",
       " 1,\n",
       " 6,\n",
       " 4,\n",
       " 7,\n",
       " 0,\n",
       " 5,\n",
       " 1,\n",
       " 5,\n",
       " 4,\n",
       " 4,\n",
       " 5,\n",
       " 9,\n",
       " 1,\n",
       " 0,\n",
       " 5,\n",
       " 8,\n",
       " 3,\n",
       " 4,\n",
       " 4,\n",
       " 2,\n",
       " 4,\n",
       " 2,\n",
       " 5,\n",
       " 6,\n",
       " 7,\n",
       " 2,\n",
       " 2,\n",
       " 5,\n",
       " 3,\n",
       " 8,\n",
       " 8,\n",
       " 6,\n",
       " 8,\n",
       " 4,\n",
       " 4,\n",
       " 1,\n",
       " 0,\n",
       " 2,\n",
       " 7,\n",
       " 1,\n",
       " 1,\n",
       " 8,\n",
       " 8,\n",
       " 2,\n",
       " 7,\n",
       " 9,\n",
       " 7,\n",
       " 4,\n",
       " 1,\n",
       " 2,\n",
       " 0,\n",
       " 8,\n",
       " 9,\n",
       " 1,\n",
       " 4,\n",
       " 9,\n",
       " 5,\n",
       " 6,\n",
       " 7,\n",
       " 0,\n",
       " 3,\n",
       " 2,\n",
       " 0,\n",
       " 4,\n",
       " 1,\n",
       " 0,\n",
       " 0,\n",
       " 8,\n",
       " 7,\n",
       " 0,\n",
       " 2,\n",
       " 9,\n",
       " 9,\n",
       " 1,\n",
       " 3,\n",
       " 8,\n",
       " 3,\n",
       " 1,\n",
       " 4,\n",
       " 8,\n",
       " 5,\n",
       " 1,\n",
       " 8,\n",
       " 2,\n",
       " 4,\n",
       " 4,\n",
       " 9,\n",
       " 5,\n",
       " 5,\n",
       " 4,\n",
       " 5,\n",
       " 6,\n",
       " 3,\n",
       " 7,\n",
       " 4,\n",
       " 9,\n",
       " 5,\n",
       " 8,\n",
       " 9,\n",
       " 3,\n",
       " 9,\n",
       " 6,\n",
       " 4,\n",
       " 7,\n",
       " 2,\n",
       " 2,\n",
       " 6,\n",
       " 4,\n",
       " 8,\n",
       " 3,\n",
       " 0,\n",
       " 2,\n",
       " 8,\n",
       " 9,\n",
       " 0,\n",
       " 8,\n",
       " 6,\n",
       " 3,\n",
       " 9,\n",
       " 1,\n",
       " 6,\n",
       " 3,\n",
       " 2,\n",
       " 6,\n",
       " 1,\n",
       " 0,\n",
       " 2,\n",
       " 6,\n",
       " 2,\n",
       " 3,\n",
       " 3,\n",
       " 9,\n",
       " 1,\n",
       " 7,\n",
       " 9,\n",
       " 1,\n",
       " 1,\n",
       " 0,\n",
       " 1,\n",
       " 7,\n",
       " 0,\n",
       " 8,\n",
       " 5,\n",
       " 0,\n",
       " 6,\n",
       " 0,\n",
       " 1,\n",
       " 6,\n",
       " 6,\n",
       " 8,\n",
       " 7,\n",
       " 0,\n",
       " 9,\n",
       " 9,\n",
       " 9,\n",
       " 7,\n",
       " 4,\n",
       " 3,\n",
       " 9,\n",
       " 5,\n",
       " 9,\n",
       " 1,\n",
       " 4,\n",
       " 1,\n",
       " 6,\n",
       " 2,\n",
       " 2,\n",
       " 2,\n",
       " 7,\n",
       " 7,\n",
       " 6,\n",
       " 3,\n",
       " 7,\n",
       " 5,\n",
       " 8,\n",
       " 6,\n",
       " 4,\n",
       " 8,\n",
       " 4,\n",
       " 7,\n",
       " 8,\n",
       " 6,\n",
       " 5,\n",
       " 9,\n",
       " 9,\n",
       " 0,\n",
       " 0,\n",
       " 2,\n",
       " 4,\n",
       " 3,\n",
       " 7,\n",
       " 9,\n",
       " 3,\n",
       " 1,\n",
       " 9,\n",
       " 2,\n",
       " 7,\n",
       " 5,\n",
       " 5,\n",
       " 4,\n",
       " 8,\n",
       " 2,\n",
       " 7,\n",
       " 8,\n",
       " 1,\n",
       " 2,\n",
       " 6,\n",
       " 6,\n",
       " 8,\n",
       " 1,\n",
       " 9,\n",
       " 6,\n",
       " 0,\n",
       " 0,\n",
       " 5,\n",
       " 9,\n",
       " 3,\n",
       " 3,\n",
       " 7,\n",
       " 6,\n",
       " 1,\n",
       " 0,\n",
       " 0,\n",
       " 6,\n",
       " 4,\n",
       " 7,\n",
       " 5,\n",
       " 9,\n",
       " 7,\n",
       " 9,\n",
       " 3,\n",
       " 8,\n",
       " 8,\n",
       " 4,\n",
       " 8,\n",
       " 5,\n",
       " 4,\n",
       " 2,\n",
       " 2,\n",
       " 7,\n",
       " 7,\n",
       " 5,\n",
       " 8,\n",
       " 4,\n",
       " 6,\n",
       " 9,\n",
       " 4,\n",
       " 3,\n",
       " 7,\n",
       " 8,\n",
       " 7,\n",
       " 8,\n",
       " 3,\n",
       " 7,\n",
       " 8,\n",
       " 4,\n",
       " 7,\n",
       " 7,\n",
       " 2,\n",
       " 2,\n",
       " 0,\n",
       " 0,\n",
       " 0,\n",
       " 3,\n",
       " 9,\n",
       " 1,\n",
       " 0,\n",
       " 9,\n",
       " 8,\n",
       " 4,\n",
       " 3,\n",
       " 9,\n",
       " 9,\n",
       " 9,\n",
       " 8,\n",
       " 8,\n",
       " 5,\n",
       " 4,\n",
       " 5,\n",
       " 4,\n",
       " 9,\n",
       " 8,\n",
       " 8,\n",
       " 0,\n",
       " 9,\n",
       " 2,\n",
       " 0,\n",
       " 7,\n",
       " 3,\n",
       " 7,\n",
       " 9,\n",
       " 3,\n",
       " 8,\n",
       " 4,\n",
       " 3,\n",
       " 7,\n",
       " 8,\n",
       " 1,\n",
       " 4,\n",
       " 0,\n",
       " 7,\n",
       " 9,\n",
       " 8,\n",
       " 5,\n",
       " 5,\n",
       " 2,\n",
       " 1,\n",
       " 3,\n",
       " 4,\n",
       " 6,\n",
       " 7,\n",
       " 7,\n",
       " 5,\n",
       " 9,\n",
       " 9,\n",
       " 7,\n",
       " 8,\n",
       " 2,\n",
       " 7,\n",
       " 4,\n",
       " 7,\n",
       " 0,\n",
       " 3,\n",
       " 5,\n",
       " 1,\n",
       " 1,\n",
       " 5,\n",
       " 5,\n",
       " 2,\n",
       " 8,\n",
       " 3,\n",
       " 5,\n",
       " 9,\n",
       " 0,\n",
       " 7,\n",
       " 3,\n",
       " 0,\n",
       " 0,\n",
       " 7,\n",
       " 1,\n",
       " 9,\n",
       " 4,\n",
       " 8,\n",
       " 9,\n",
       " 1,\n",
       " 8,\n",
       " 3,\n",
       " 4,\n",
       " 7,\n",
       " 7,\n",
       " 7,\n",
       " 1,\n",
       " 4,\n",
       " 0,\n",
       " 4,\n",
       " 5,\n",
       " 8,\n",
       " 8,\n",
       " 6,\n",
       " 5,\n",
       " 7,\n",
       " 1,\n",
       " 0,\n",
       " 2,\n",
       " 4,\n",
       " 9,\n",
       " 0,\n",
       " 9,\n",
       " 8,\n",
       " 6,\n",
       " 2,\n",
       " 8,\n",
       " 1,\n",
       " 4,\n",
       " 1,\n",
       " 1,\n",
       " 2,\n",
       " 3,\n",
       " 3,\n",
       " 8,\n",
       " 9,\n",
       " 5,\n",
       " 1,\n",
       " 6,\n",
       " 4,\n",
       " 5,\n",
       " 9,\n",
       " 6,\n",
       " 2,\n",
       " 8,\n",
       " 8,\n",
       " 7,\n",
       " 0,\n",
       " 1,\n",
       " 6,\n",
       " 5,\n",
       " 5,\n",
       " 6,\n",
       " 5,\n",
       " 4,\n",
       " 6,\n",
       " 0,\n",
       " 6,\n",
       " 1,\n",
       " 1,\n",
       " 5,\n",
       " 7,\n",
       " 6,\n",
       " 5,\n",
       " 4,\n",
       " 0,\n",
       " 6,\n",
       " 0,\n",
       " 7,\n",
       " 2,\n",
       " 8,\n",
       " 9,\n",
       " 1,\n",
       " 6,\n",
       " 7,\n",
       " 1,\n",
       " 9,\n",
       " 8,\n",
       " 3,\n",
       " 5,\n",
       " 7,\n",
       " 1,\n",
       " 1,\n",
       " 9,\n",
       " 0,\n",
       " 6,\n",
       " 4,\n",
       " 8,\n",
       " 0,\n",
       " 9,\n",
       " 5,\n",
       " 0,\n",
       " 0,\n",
       " 1,\n",
       " 8,\n",
       " 7,\n",
       " 6,\n",
       " 7,\n",
       " 9,\n",
       " 0,\n",
       " 3,\n",
       " 0,\n",
       " 1,\n",
       " 3,\n",
       " 8,\n",
       " 0,\n",
       " 0,\n",
       " 1,\n",
       " 7,\n",
       " 4,\n",
       " 7,\n",
       " 3,\n",
       " 7,\n",
       " 0,\n",
       " 6,\n",
       " 0,\n",
       " 2,\n",
       " 3,\n",
       " 4,\n",
       " 5,\n",
       " 9,\n",
       " 5,\n",
       " 2,\n",
       " 8,\n",
       " 7,\n",
       " 0,\n",
       " 1,\n",
       " 4,\n",
       " 1,\n",
       " 8,\n",
       " 3,\n",
       " 2,\n",
       " 7,\n",
       " 5,\n",
       " 0,\n",
       " 9,\n",
       " 6,\n",
       " 6,\n",
       " 9,\n",
       " 3,\n",
       " 1,\n",
       " 1,\n",
       " 9,\n",
       " 9,\n",
       " 3,\n",
       " 9,\n",
       " 7,\n",
       " 3,\n",
       " 1,\n",
       " 9,\n",
       " 1,\n",
       " 6,\n",
       " 3,\n",
       " 0,\n",
       " 4,\n",
       " 8,\n",
       " 0,\n",
       " 6,\n",
       " 6,\n",
       " 2,\n",
       " 9,\n",
       " 1,\n",
       " 9,\n",
       " 8,\n",
       " 3,\n",
       " 4,\n",
       " 7,\n",
       " 2,\n",
       " 0,\n",
       " 0,\n",
       " 8,\n",
       " 6,\n",
       " 9,\n",
       " 1,\n",
       " 2,\n",
       " 5,\n",
       " 2,\n",
       " 8,\n",
       " 5,\n",
       " 6,\n",
       " 7,\n",
       " 0,\n",
       " 6,\n",
       " 8,\n",
       " 7,\n",
       " 1,\n",
       " 0,\n",
       " 3,\n",
       " 4,\n",
       " 7,\n",
       " 5,\n",
       " 2,\n",
       " 5,\n",
       " 1,\n",
       " 1,\n",
       " 5,\n",
       " 7,\n",
       " 5,\n",
       " 1,\n",
       " 4,\n",
       " 9,\n",
       " 6,\n",
       " 7,\n",
       " 5,\n",
       " 7,\n",
       " 3,\n",
       " 8,\n",
       " 2,\n",
       " 9,\n",
       " 4,\n",
       " 2,\n",
       " 5,\n",
       " 5,\n",
       " 7,\n",
       " 4,\n",
       " 2,\n",
       " 6,\n",
       " 9,\n",
       " 0,\n",
       " 5,\n",
       " 3,\n",
       " 6,\n",
       " 9,\n",
       " 5,\n",
       " 3,\n",
       " 6,\n",
       " 0,\n",
       " 3,\n",
       " 5,\n",
       " 7,\n",
       " 1,\n",
       " 2,\n",
       " 5,\n",
       " 7,\n",
       " 8,\n",
       " 1,\n",
       " 6,\n",
       " 3,\n",
       " 9,\n",
       " 7,\n",
       " 7,\n",
       " 0,\n",
       " 4,\n",
       " 0,\n",
       " 8,\n",
       " 7,\n",
       " 6,\n",
       " 9,\n",
       " 0,\n",
       " 2,\n",
       " 7,\n",
       " 6,\n",
       " 0,\n",
       " 4,\n",
       " 7,\n",
       " 4,\n",
       " 1,\n",
       " 2,\n",
       " 6,\n",
       " 7,\n",
       " 8,\n",
       " 2,\n",
       " 5,\n",
       " 6,\n",
       " 0,\n",
       " 2,\n",
       " 9,\n",
       " 8,\n",
       " 5,\n",
       " 4,\n",
       " 5,\n",
       " 7,\n",
       " 3,\n",
       " 3,\n",
       " 9,\n",
       " 8,\n",
       " ...]"
      ]
     },
     "execution_count": 56,
     "metadata": {},
     "output_type": "execute_result"
    }
   ],
   "source": [
    "train_set.train_labels.tolist()"
   ]
  },
  {
   "cell_type": "code",
   "execution_count": 59,
   "id": "c8f7dd43",
   "metadata": {},
   "outputs": [
    {
     "data": {
      "text/plain": [
       "tensor([6000, 6000, 6000, 6000, 6000, 6000, 6000, 6000, 6000, 6000])"
      ]
     },
     "execution_count": 59,
     "metadata": {},
     "output_type": "execute_result"
    }
   ],
   "source": [
    "train_set.train_labels.bincount()"
   ]
  },
  {
   "cell_type": "code",
   "execution_count": 61,
   "id": "ab63a60d",
   "metadata": {},
   "outputs": [],
   "source": [
    "sample = next(iter(train_set))"
   ]
  },
  {
   "cell_type": "code",
   "execution_count": 62,
   "id": "13787a67",
   "metadata": {},
   "outputs": [
    {
     "data": {
      "text/plain": [
       "2"
      ]
     },
     "execution_count": 62,
     "metadata": {},
     "output_type": "execute_result"
    }
   ],
   "source": [
    "len(sample)"
   ]
  },
  {
   "cell_type": "code",
   "execution_count": 63,
   "id": "b0b418e3",
   "metadata": {},
   "outputs": [
    {
     "data": {
      "text/plain": [
       "tuple"
      ]
     },
     "execution_count": 63,
     "metadata": {},
     "output_type": "execute_result"
    }
   ],
   "source": [
    "type(sample)"
   ]
  },
  {
   "cell_type": "code",
   "execution_count": 69,
   "id": "d5a14e0e",
   "metadata": {},
   "outputs": [],
   "source": [
    "image , label = sample"
   ]
  },
  {
   "cell_type": "code",
   "execution_count": 75,
   "id": "a17af8de",
   "metadata": {},
   "outputs": [
    {
     "name": "stdout",
     "output_type": "stream",
     "text": [
      "label: 9\n"
     ]
    },
    {
     "data": {
      "image/png": "[encoded data removed]",
      "text/plain": [
       "<Figure size 432x288 with 1 Axes>"
      ]
     },
     "metadata": {
      "needs_background": "light"
     },
     "output_type": "display_data"
    }
   ],
   "source": [
    "plt.imshow(image.squeeze(),cmap = 'gray')\n",
    "print('label:',label)"
   ]
  },
  {
   "cell_type": "code",
   "execution_count": 98,
   "id": "56b2b265",
   "metadata": {},
   "outputs": [
    {
     "data": {
      "text/plain": [
       "2"
      ]
     },
     "execution_count": 98,
     "metadata": {},
     "output_type": "execute_result"
    }
   ],
   "source": [
    "batch = next(iter(train_loader))\n",
    "\n",
    "len(batch)"
   ]
  },
  {
   "cell_type": "code",
   "execution_count": 99,
   "id": "4e9fb8f2",
   "metadata": {},
   "outputs": [
    {
     "data": {
      "text/plain": [
       "list"
      ]
     },
     "execution_count": 99,
     "metadata": {},
     "output_type": "execute_result"
    }
   ],
   "source": [
    "type(batch)"
   ]
  },
  {
   "cell_type": "code",
   "execution_count": 100,
   "id": "a0a6df8c",
   "metadata": {},
   "outputs": [],
   "source": [
    "images , labels = batch"
   ]
  },
  {
   "cell_type": "code",
   "execution_count": 101,
   "id": "bde451cb",
   "metadata": {},
   "outputs": [
    {
     "data": {
      "text/plain": [
       "torch.Size([100, 1, 28, 28])"
      ]
     },
     "execution_count": 101,
     "metadata": {},
     "output_type": "execute_result"
    }
   ],
   "source": [
    "images.shape\n"
   ]
  },
  {
   "cell_type": "code",
   "execution_count": 102,
   "id": "0a91ee4c",
   "metadata": {},
   "outputs": [
    {
     "data": {
      "text/plain": [
       "torch.Size([100])"
      ]
     },
     "execution_count": 102,
     "metadata": {},
     "output_type": "execute_result"
    }
   ],
   "source": [
    "labels.shape"
   ]
  },
  {
   "cell_type": "code",
   "execution_count": 103,
   "id": "361a3717",
   "metadata": {},
   "outputs": [
    {
     "name": "stdout",
     "output_type": "stream",
     "text": [
      "labels: tensor([0, 4, 0, 1, 2, 2, 8, 6, 2, 1, 5, 3, 5, 6, 3, 6, 0, 6, 1, 3, 9, 0, 8, 9, 2, 2, 3, 4, 9, 3, 9, 3, 2, 5, 3, 9, 5,\n",
      "        9, 4, 9, 4, 4, 6, 2, 5, 1, 8, 5, 4, 2, 0, 8, 0, 0, 8, 4, 1, 2, 3, 3, 5, 7, 4, 1, 7, 7, 9, 1, 9, 8, 8, 3, 9, 3,\n",
      "        7, 2, 6, 8, 4, 2, 1, 4, 3, 0, 9, 5, 4, 4, 8, 2, 3, 8, 8, 7, 4, 5, 1, 0, 9, 1])\n"
     ]
    },
    {
     "data": {
      "image/png": "[encoded data removed]",
      "text/plain": [
       "<Figure size 1080x1080 with 1 Axes>"
      ]
     },
     "metadata": {
      "needs_background": "light"
     },
     "output_type": "display_data"
    }
   ],
   "source": [
    "grid = torchvision.utils.make_grid(images,nrow = 5)\n",
    "plt.figure(figsize = (15,15))\n",
    "plt.imshow(np.transpose(grid,(1,2,0)))\n",
    "print('labels:' , labels)"
   ]
  },
  {
   "cell_type": "markdown",
   "id": "cb00b5fc",
   "metadata": {},
   "source": [
    "# Building our Network"
   ]
  },
  {
   "cell_type": "code",
   "execution_count": 1,
   "id": "e1a8928e",
   "metadata": {},
   "outputs": [],
   "source": [
    "# a normal network class\n",
    "\n",
    "class Network:\n",
    "    def __init__(self):\n",
    "        self.layer = None\n",
    "        \n",
    "    def forward(self,t):\n",
    "        t = self.layer(t)\n",
    "        return t\n"
   ]
  },
  {
   "cell_type": "code",
   "execution_count": 12,
   "id": "d6c5f400",
   "metadata": {},
   "outputs": [],
   "source": [
    "# but to use pytorch we have to extend the built in nn.Module class\n",
    "\n",
    "#also we need to insert a call to the super class constructor on line 3\n",
    "\n",
    "\n",
    "import torch.nn as nn\n",
    "class Network(nn.Module):\n",
    "    def __init__(self):\n",
    "        super(Network,self).__init__()\n",
    "        self.conv1 = nn.Conv2d(in_channels=1, out_channels=6,kernel_size=5)\n",
    "        self.conv2 = nn.Conv2d(in_channels=6, out_channels= 12, kernel_size=5)\n",
    "        \n",
    "        self.fc1 = nn.Linear(in_features=12*4*4,out_features=120)\n",
    "        self.fc2 = nn.Linear(in_features=120, out_features=60)\n",
    "        self.out = nn.Linear(in_features=60, out_features=10)\n",
    "        \n",
    "        \n",
    "    def forward(self,t):\n",
    "        \n",
    "        return t\n"
   ]
  },
  {
   "cell_type": "code",
   "execution_count": 19,
   "id": "45663556",
   "metadata": {},
   "outputs": [],
   "source": [
    "mynet = Network()\n"
   ]
  },
  {
   "cell_type": "code",
   "execution_count": 20,
   "id": "9c16e828",
   "metadata": {},
   "outputs": [
    {
     "name": "stdout",
     "output_type": "stream",
     "text": [
      "Network(\n",
      "  (conv1): Conv2d(1, 6, kernel_size=(5, 5), stride=(1, 1))\n",
      "  (conv2): Conv2d(6, 12, kernel_size=(5, 5), stride=(1, 1))\n",
      "  (fc1): Linear(in_features=192, out_features=120, bias=True)\n",
      "  (fc2): Linear(in_features=120, out_features=60, bias=True)\n",
      "  (out): Linear(in_features=60, out_features=10, bias=True)\n",
      ")\n"
     ]
    }
   ],
   "source": [
    "print(Mynet)"
   ]
  },
  {
   "cell_type": "code",
   "execution_count": 22,
   "id": "b9f58f5d",
   "metadata": {},
   "outputs": [
    {
     "data": {
      "text/plain": [
       "Conv2d(1, 6, kernel_size=(5, 5), stride=(1, 1))"
      ]
     },
     "execution_count": 22,
     "metadata": {},
     "output_type": "execute_result"
    }
   ],
   "source": [
    "mynet.conv1"
   ]
  },
  {
   "cell_type": "code",
   "execution_count": 23,
   "id": "a2ae39d8",
   "metadata": {},
   "outputs": [
    {
     "data": {
      "text/plain": [
       "Conv2d(6, 12, kernel_size=(5, 5), stride=(1, 1))"
      ]
     },
     "execution_count": 23,
     "metadata": {},
     "output_type": "execute_result"
    }
   ],
   "source": [
    "mynet.conv2"
   ]
  },
  {
   "cell_type": "code",
   "execution_count": 24,
   "id": "11656680",
   "metadata": {},
   "outputs": [
    {
     "data": {
      "text/plain": [
       "Parameter containing:\n",
       "tensor([[[[ 1.2060e-01,  1.7459e-01, -1.6539e-01,  1.7060e-01, -1.6147e-01],\n",
       "          [-1.5316e-01, -1.0978e-01, -1.8079e-01, -1.3361e-02, -1.4004e-01],\n",
       "          [ 6.9702e-02,  5.4948e-02, -1.1968e-01, -7.6457e-02, -1.2225e-02],\n",
       "          [ 1.7515e-01,  1.2475e-01,  1.8246e-01, -6.9033e-02,  5.2208e-02],\n",
       "          [-7.0883e-02, -2.9680e-02,  5.5439e-02,  8.8118e-02,  1.6454e-01]]],\n",
       "\n",
       "\n",
       "        [[[-1.3239e-01,  1.9511e-01,  3.7720e-02, -4.2030e-03, -1.2303e-01],\n",
       "          [-8.9151e-02,  7.1255e-02,  1.8995e-01, -1.8860e-01,  1.7316e-01],\n",
       "          [ 3.1262e-02,  1.8847e-01, -1.2312e-01,  1.6273e-01,  9.8600e-02],\n",
       "          [-5.1952e-02, -1.9048e-01,  6.3603e-02,  1.2586e-01, -1.2946e-01],\n",
       "          [-1.6718e-01,  6.9044e-02, -1.1320e-03, -1.3361e-01,  1.3831e-02]]],\n",
       "\n",
       "\n",
       "        [[[ 1.0818e-01, -8.3349e-03, -4.6633e-02,  1.1497e-01,  1.5839e-01],\n",
       "          [ 7.2779e-02,  1.4849e-01, -4.7595e-03,  2.9349e-02, -6.5334e-02],\n",
       "          [-1.8055e-01,  1.2045e-01,  1.4111e-01, -1.7957e-01,  1.7858e-01],\n",
       "          [ 1.0241e-01, -6.3558e-02, -1.0759e-01, -1.2316e-01, -1.4400e-01],\n",
       "          [-1.1207e-01,  8.7119e-02,  3.3666e-02,  1.7109e-03,  1.0242e-01]]],\n",
       "\n",
       "\n",
       "        [[[-1.9836e-01,  1.1910e-01,  1.5129e-01, -1.5089e-01,  6.3623e-02],\n",
       "          [-2.8942e-02, -1.2680e-02,  1.6264e-01,  1.0983e-01, -1.3295e-01],\n",
       "          [-7.2747e-02, -1.0289e-01,  1.6946e-01,  1.2135e-01, -1.3156e-01],\n",
       "          [ 1.9744e-02,  6.6857e-02, -4.2915e-05, -5.0186e-02, -1.3678e-03],\n",
       "          [-1.1786e-01, -6.5076e-02,  9.4891e-02,  1.0689e-01,  1.9821e-01]]],\n",
       "\n",
       "\n",
       "        [[[-1.7589e-01,  6.3888e-02,  1.1068e-01, -1.0155e-01,  3.5640e-02],\n",
       "          [ 1.4759e-01,  1.3940e-01,  5.7485e-02,  1.3016e-01,  6.3809e-03],\n",
       "          [ 1.0984e-01, -8.3011e-02,  9.2547e-02, -5.1464e-02, -1.3530e-01],\n",
       "          [-1.5146e-01, -4.8514e-02,  5.9324e-02, -6.0047e-03, -1.5370e-01],\n",
       "          [-1.4979e-01, -1.6183e-01,  1.5313e-01,  7.8851e-02,  4.6473e-02]]],\n",
       "\n",
       "\n",
       "        [[[-1.7932e-01,  1.7520e-02,  1.5645e-01,  1.8202e-02,  1.4265e-01],\n",
       "          [-7.1278e-02,  1.6100e-01,  7.8073e-02,  1.4836e-02, -1.7650e-01],\n",
       "          [ 5.2575e-02, -4.0286e-02,  1.6935e-01, -2.7664e-02,  6.7886e-02],\n",
       "          [ 1.1751e-01,  8.9496e-05, -1.5928e-01,  8.8545e-02, -1.5634e-01],\n",
       "          [-3.2117e-02, -1.4361e-01, -4.4556e-02, -1.8603e-01,  1.1155e-01]]]],\n",
       "       requires_grad=True)"
      ]
     },
     "execution_count": 24,
     "metadata": {},
     "output_type": "execute_result"
    }
   ],
   "source": [
    "mynet.conv1.weight"
   ]
  },
  {
   "cell_type": "code",
   "execution_count": 26,
   "id": "c0174199",
   "metadata": {},
   "outputs": [
    {
     "data": {
      "text/plain": [
       "torch.Size([6, 1, 5, 5])"
      ]
     },
     "execution_count": 26,
     "metadata": {},
     "output_type": "execute_result"
    }
   ],
   "source": [
    "mynet.conv1.weight.shape "
   ]
  },
  {
   "cell_type": "code",
   "execution_count": 32,
   "id": "484a9739",
   "metadata": {},
   "outputs": [
    {
     "data": {
      "text/plain": [
       "torch.Size([12, 6, 5, 5])"
      ]
     },
     "execution_count": 32,
     "metadata": {},
     "output_type": "execute_result"
    }
   ],
   "source": [
    " mynet.conv2.weight.shape"
   ]
  },
  {
   "cell_type": "code",
   "execution_count": 33,
   "id": "50a97b73",
   "metadata": {},
   "outputs": [
    {
     "data": {
      "text/plain": [
       "torch.Size([120, 192])"
      ]
     },
     "execution_count": 33,
     "metadata": {},
     "output_type": "execute_result"
    }
   ],
   "source": [
    "mynet.fc1.weight.shape"
   ]
  },
  {
   "cell_type": "code",
   "execution_count": 34,
   "id": "a7d3c040",
   "metadata": {},
   "outputs": [
    {
     "data": {
      "text/plain": [
       "torch.Size([60, 120])"
      ]
     },
     "execution_count": 34,
     "metadata": {},
     "output_type": "execute_result"
    }
   ],
   "source": [
    "mynet.fc2.weight.shape"
   ]
  },
  {
   "cell_type": "code",
   "execution_count": 35,
   "id": "e0bb91b0",
   "metadata": {},
   "outputs": [
    {
     "data": {
      "text/plain": [
       "torch.Size([10, 60])"
      ]
     },
     "execution_count": 35,
     "metadata": {},
     "output_type": "execute_result"
    }
   ],
   "source": [
    "mynet.out.weight.shape"
   ]
  },
  {
   "cell_type": "code",
   "execution_count": 38,
   "id": "2b32375a",
   "metadata": {
    "collapsed": true
   },
   "outputs": [
    {
     "data": {
      "text/plain": [
       "tensor([[[-0.0421, -0.0469, -0.0743,  0.0487,  0.0513],\n",
       "         [ 0.0428, -0.0635,  0.0226,  0.0774,  0.0752],\n",
       "         [ 0.0719, -0.0256,  0.0734, -0.0681,  0.0111],\n",
       "         [-0.0051, -0.0478, -0.0634,  0.0448,  0.0332],\n",
       "         [-0.0401,  0.0381,  0.0050, -0.0451,  0.0711]],\n",
       "\n",
       "        [[-0.0515,  0.0649,  0.0449, -0.0659, -0.0605],\n",
       "         [ 0.0455, -0.0775,  0.0010, -0.0491, -0.0685],\n",
       "         [-0.0165,  0.0549, -0.0444, -0.0194,  0.0305],\n",
       "         [-0.0315,  0.0742,  0.0068,  0.0475,  0.0564],\n",
       "         [ 0.0365, -0.0766, -0.0350,  0.0236,  0.0066]],\n",
       "\n",
       "        [[-0.0357,  0.0191,  0.0813,  0.0597,  0.0133],\n",
       "         [-0.0130, -0.0575, -0.0665, -0.0761,  0.0162],\n",
       "         [ 0.0626, -0.0623,  0.0665,  0.0335, -0.0534],\n",
       "         [-0.0410, -0.0332, -0.0389, -0.0646,  0.0299],\n",
       "         [ 0.0764, -0.0263,  0.0653,  0.0426, -0.0061]],\n",
       "\n",
       "        [[ 0.0738, -0.0607, -0.0463, -0.0495, -0.0031],\n",
       "         [-0.0444,  0.0611,  0.0035, -0.0604, -0.0493],\n",
       "         [-0.0125, -0.0359,  0.0636, -0.0781,  0.0248],\n",
       "         [ 0.0616, -0.0772,  0.0423,  0.0220, -0.0363],\n",
       "         [-0.0425, -0.0717,  0.0014,  0.0656,  0.0249]],\n",
       "\n",
       "        [[-0.0769, -0.0435, -0.0251, -0.0528, -0.0366],\n",
       "         [ 0.0344,  0.0380, -0.0497, -0.0072, -0.0712],\n",
       "         [-0.0492, -0.0502,  0.0177, -0.0198,  0.0442],\n",
       "         [-0.0640, -0.0165,  0.0795, -0.0768,  0.0468],\n",
       "         [ 0.0160,  0.0232,  0.0028,  0.0260, -0.0207]],\n",
       "\n",
       "        [[ 0.0377, -0.0133, -0.0047,  0.0617, -0.0198],\n",
       "         [-0.0799, -0.0563,  0.0249,  0.0059, -0.0013],\n",
       "         [ 0.0809,  0.0370,  0.0248, -0.0272,  0.0256],\n",
       "         [-0.0338, -0.0565, -0.0511,  0.0771,  0.0609],\n",
       "         [-0.0173, -0.0032,  0.0727,  0.0520,  0.0034]]],\n",
       "       grad_fn=<SelectBackward>)"
      ]
     },
     "execution_count": 38,
     "metadata": {},
     "output_type": "execute_result"
    }
   ],
   "source": [
    "mynet.conv2.weight[0]"
   ]
  },
  {
   "cell_type": "code",
   "execution_count": 39,
   "id": "ad58646d",
   "metadata": {},
   "outputs": [
    {
     "data": {
      "text/plain": [
       "torch.Size([6, 5, 5])"
      ]
     },
     "execution_count": 39,
     "metadata": {},
     "output_type": "execute_result"
    }
   ],
   "source": [
    "mynet.conv2.weight[0].shape"
   ]
  },
  {
   "cell_type": "code",
   "execution_count": 41,
   "id": "7326e419",
   "metadata": {},
   "outputs": [
    {
     "data": {
      "text/plain": [
       "torch.Size([120, 192])"
      ]
     },
     "execution_count": 41,
     "metadata": {},
     "output_type": "execute_result"
    }
   ],
   "source": [
    "mynet.fc1.weight.shape"
   ]
  },
  {
   "cell_type": "code",
   "execution_count": 44,
   "id": "7edd4d42",
   "metadata": {},
   "outputs": [
    {
     "name": "stdout",
     "output_type": "stream",
     "text": [
      "torch.Size([6, 1, 5, 5])\n",
      "torch.Size([6])\n",
      "torch.Size([12, 6, 5, 5])\n",
      "torch.Size([12])\n",
      "torch.Size([120, 192])\n",
      "torch.Size([120])\n",
      "torch.Size([60, 120])\n",
      "torch.Size([60])\n",
      "torch.Size([10, 60])\n",
      "torch.Size([10])\n"
     ]
    }
   ],
   "source": [
    "#how to access all the parameters at once\n",
    "for param in mynet.parameters():\n",
    "    print(param.shape)"
   ]
  },
  {
   "cell_type": "code",
   "execution_count": 49,
   "id": "3a4f39f9",
   "metadata": {},
   "outputs": [
    {
     "name": "stdout",
     "output_type": "stream",
     "text": [
      "conv1.weight \t\t torch.Size([6, 1, 5, 5])\n",
      "conv1.bias \t\t torch.Size([6])\n",
      "conv2.weight \t\t torch.Size([12, 6, 5, 5])\n",
      "conv2.bias \t\t torch.Size([12])\n",
      "fc1.weight \t\t torch.Size([120, 192])\n",
      "fc1.bias \t\t torch.Size([120])\n",
      "fc2.weight \t\t torch.Size([60, 120])\n",
      "fc2.bias \t\t torch.Size([60])\n",
      "out.weight \t\t torch.Size([10, 60])\n",
      "out.bias \t\t torch.Size([10])\n"
     ]
    }
   ],
   "source": [
    "for name,param in mynet.named_parameters():\n",
    "    print(name, '\\t\\t' , param.shape)\n",
    "     "
   ]
  },
  {
   "cell_type": "code",
   "execution_count": 52,
   "id": "03230e48",
   "metadata": {},
   "outputs": [],
   "source": [
    "in_features = torch.tensor([1,2,3,4],dtype = torch.float32)"
   ]
  },
  {
   "cell_type": "code",
   "execution_count": 54,
   "id": "60ce19f0",
   "metadata": {},
   "outputs": [],
   "source": [
    "weight_matrix = torch.tensor([\n",
    "    [1,2,3,4],\n",
    "    [2,3,4,5],\n",
    "    [3,4,5,6]\n",
    "],dtype = torch.float32)\n"
   ]
  },
  {
   "cell_type": "code",
   "execution_count": 55,
   "id": "ec5b68be",
   "metadata": {},
   "outputs": [
    {
     "data": {
      "text/plain": [
       "tensor([30., 40., 50.])"
      ]
     },
     "execution_count": 55,
     "metadata": {},
     "output_type": "execute_result"
    }
   ],
   "source": [
    "weight_matrix.matmul(in_features)"
   ]
  },
  {
   "cell_type": "code",
   "execution_count": 60,
   "id": "5dde2818",
   "metadata": {},
   "outputs": [],
   "source": [
    "fc = nn.Linear(in_features = 4 , out_features=3)"
   ]
  },
  {
   "cell_type": "code",
   "execution_count": 61,
   "id": "2a75b6ba",
   "metadata": {},
   "outputs": [],
   "source": [
    "fc.weight = nn.Parameter(weight_matrix)"
   ]
  },
  {
   "cell_type": "code",
   "execution_count": 62,
   "id": "a81ec06a",
   "metadata": {},
   "outputs": [
    {
     "data": {
      "text/plain": [
       "tensor([29.7537, 39.6349, 50.0139], grad_fn=<AddBackward0>)"
      ]
     },
     "execution_count": 62,
     "metadata": {},
     "output_type": "execute_result"
    }
   ],
   "source": [
    "fc(in_features)    #because of bias"
   ]
  },
  {
   "cell_type": "code",
   "execution_count": null,
   "id": "f0435029",
   "metadata": {},
   "outputs": [],
   "source": []
  }
 ],
 "metadata": {
  "kernelspec": {
   "display_name": "Python 3",
   "language": "python",
   "name": "python3"
  },
  "language_info": {
   "codemirror_mode": {
    "name": "ipython",
    "version": 3
   },
   "file_extension": ".py",
   "mimetype": "text/x-python",
   "name": "python",
   "nbconvert_exporter": "python",
   "pygments_lexer": "ipython3",
   "version": "3.8.10"
  }
 },
 "nbformat": 4,
 "nbformat_minor": 5
}
