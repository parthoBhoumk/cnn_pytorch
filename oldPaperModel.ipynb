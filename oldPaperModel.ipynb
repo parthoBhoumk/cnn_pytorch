{
  "nbformat": 4,
  "nbformat_minor": 0,
  "metadata": {
    "colab": {
      "name": "oldPaperModel.ipynb",
      "provenance": [],
      "collapsed_sections": [],
      "authorship_tag": "ABX9TyP9vMfd7anYCtCukgXXtn4b",
      "include_colab_link": true
    },
    "kernelspec": {
      "name": "python3",
      "display_name": "Python 3"
    },
    "language_info": {
      "name": "python"
    },
    "accelerator": "GPU"
  },
  "cells": [
    {
      "cell_type": "markdown",
      "metadata": {
        "id": "view-in-github",
        "colab_type": "text"
      },
      "source": [
        "<a href=\"https://colab.research.google.com/github/parthoBhoumk/cnn_pytorch/blob/main/oldPaperModel.ipynb\" target=\"_parent\"><img src=\"https://colab.research.google.com/assets/colab-badge.svg\" alt=\"Open In Colab\"/></a>"
      ]
    },
    {
      "cell_type": "code",
      "execution_count": 1,
      "metadata": {
        "id": "Q45MOJ3dCgrh"
      },
      "outputs": [],
      "source": [
        "import matplotlib.pyplot as plt\n",
        "import numpy as np\n",
        "import pandas as pd\n",
        "import itertools\n",
        "from sklearn.utils import resample\n",
        "from sklearn.model_selection import train_test_split\n",
        "from sklearn.metrics import accuracy_score\n",
        "\n",
        "import tensorflow as tf\n",
        "from tensorflow import keras\n",
        "import os \n",
        "from os import listdir\n",
        "from tqdm import tqdm\n",
        "import shutil\n",
        "\n",
        "!pip install opendatasets --upgrade --quiet\n",
        "import opendatasets as od\n",
        "import random\n",
        "\n",
        "from keras.datasets import mnist\n",
        "from keras.models import Sequential\n",
        "from keras.layers import Dense, Dropout, Conv2D, MaxPool2D, Flatten, BatchNormalization\n",
        "from tensorflow.keras.utils import to_categorical\n",
        "from keras.utils import np_utils\n",
        "from keras.preprocessing import image\n",
        "from keras.preprocessing.image import ImageDataGenerator\n",
        "#from keras.optimizers import SGD\n",
        "from sklearn.metrics import confusion_matrix\n",
        "\n",
        "%matplotlib inline\n"
      ]
    },
    {
      "cell_type": "code",
      "source": [
        "from tensorflow.keras.models import Model"
      ],
      "metadata": {
        "id": "PFzJOX-dQ-kJ"
      },
      "execution_count": 2,
      "outputs": []
    },
    {
      "cell_type": "code",
      "source": [
        "physical_devices = tf.config.experimental.list_physical_devices('GPU')\n",
        "print(\"Num GPUs Available: \", len(physical_devices))\n",
        "#tf.config.experimental.set_memory_growth(physical_devices[0], True)"
      ],
      "metadata": {
        "colab": {
          "base_uri": "https://localhost:8080/"
        },
        "id": "zNecIqeCQ-mX",
        "outputId": "c50bbad5-5a02-48f2-f525-a5b1262ec8e3"
      },
      "execution_count": 3,
      "outputs": [
        {
          "output_type": "stream",
          "name": "stdout",
          "text": [
            "Num GPUs Available:  1\n"
          ]
        }
      ]
    },
    {
      "cell_type": "code",
      "source": [
        "dataset_url = 'https://www.kaggle.com/ambarish/breakhis'\n",
        "od.download(dataset_url)\n",
        "\n",
        "# username: asmiyahasan\n",
        "# key: f3f15bebbd529ff7bb18c499d50b1c5a"
      ],
      "metadata": {
        "colab": {
          "base_uri": "https://localhost:8080/"
        },
        "id": "1ROwa0IZQ-qn",
        "outputId": "069f0147-56ff-4c77-cc91-8903c8f8d745"
      },
      "execution_count": 5,
      "outputs": [
        {
          "output_type": "stream",
          "name": "stdout",
          "text": [
            "Please provide your Kaggle credentials to download this dataset. Learn more: http://bit.ly/kaggle-creds\n",
            "Your Kaggle username: asmiyahasan\n",
            "Your Kaggle Key: ··········\n",
            "Downloading breakhis.zip to ./breakhis\n"
          ]
        },
        {
          "output_type": "stream",
          "name": "stderr",
          "text": [
            "100%|██████████| 3.99G/3.99G [01:27<00:00, 48.8MB/s]\n"
          ]
        },
        {
          "output_type": "stream",
          "name": "stdout",
          "text": [
            "\n"
          ]
        }
      ]
    },
    {
      "cell_type": "code",
      "source": [
        "##creating folders to store the resampled images of 8 class\n",
        "\n",
        "classes = ['A', 'F', 'PT', 'TA', 'DC', 'LC', 'MC', 'PC']\n",
        "\n",
        "os.mkdir('train')\n",
        "\n",
        "for item in classes:\n",
        "  os.mkdir('./train/'+item)"
      ],
      "metadata": {
        "id": "JLPKW18TQ-s-"
      },
      "execution_count": 6,
      "outputs": []
    },
    {
      "cell_type": "code",
      "source": [
        "def getListOfFiles(dirName):\n",
        "    listOfFile = os.listdir(dirName)\n",
        "    allFiles = list()\n",
        "    for entry in listOfFile:\n",
        "        fullPath = os.path.join(dirName, entry)\n",
        "        if os.path.isdir(fullPath):\n",
        "            allFiles = allFiles + getListOfFiles(fullPath)\n",
        "        else:\n",
        "            allFiles.append(fullPath)\n",
        "                \n",
        "    return allFiles"
      ],
      "metadata": {
        "id": "WBLntC_ZQ-vY"
      },
      "execution_count": 7,
      "outputs": []
    },
    {
      "cell_type": "code",
      "source": [
        "subclass_names = ['adenosis', 'fibroadenoma', 'phyllodes_tumor', 'tubular_adenoma', \n",
        "                  'ductal_carcinoma', 'lobular_carcinoma', 'mucinous_carcinoma', 'papillary_carcinoma']\n",
        "\n",
        "for count, item in enumerate(subclass_names):\n",
        "  if count < 4:\n",
        "    file_names =  getListOfFiles('./breakhis/BreaKHis_v1/BreaKHis_v1/histology_slides/breast/benign/SOB/'+item)\n",
        "  else:\n",
        "    file_names =  getListOfFiles('./breakhis/BreaKHis_v1/BreaKHis_v1/histology_slides/breast/malignant/SOB/'+item)\n",
        "   \n",
        "  for f in file_names:\n",
        "    if f.endswith('.png'):\n",
        "      shutil.move(f,'train/'+classes[count])"
      ],
      "metadata": {
        "id": "KMPO0i1fRH4g"
      },
      "execution_count": 8,
      "outputs": []
    },
    {
      "cell_type": "code",
      "source": [
        "os.mkdir('valid')\n",
        "\n",
        "for item in classes:\n",
        "  os.mkdir('./valid/'+item)"
      ],
      "metadata": {
        "id": "gAMOCJGfRH6y"
      },
      "execution_count": 9,
      "outputs": []
    },
    {
      "cell_type": "code",
      "source": [
        "for item in classes:\n",
        "  source = './train/'+item\n",
        "  dest = './valid/'+item\n",
        "  files = os.listdir(source)\n",
        "  no_of_files = len(files) // 10\n",
        "\n",
        "  for file_name in random.sample(files, no_of_files):\n",
        "      shutil.move(os.path.join(source, file_name), dest)"
      ],
      "metadata": {
        "id": "I6TfN1wiRH9i"
      },
      "execution_count": 10,
      "outputs": []
    },
    {
      "cell_type": "code",
      "source": [
        "F_files = os.listdir('./valid/F')\n",
        "len(F_files)\n",
        "\n",
        "len(os.listdir('./'))"
      ],
      "metadata": {
        "colab": {
          "base_uri": "https://localhost:8080/"
        },
        "id": "LpsKlGw4RH_w",
        "outputId": "d5813662-7e8d-49f2-f0d0-cc47a28a317e"
      },
      "execution_count": 11,
      "outputs": [
        {
          "output_type": "execute_result",
          "data": {
            "text/plain": [
              "5"
            ]
          },
          "metadata": {},
          "execution_count": 11
        }
      ]
    },
    {
      "cell_type": "code",
      "source": [
        "print('Training Set')\n",
        "for item in classes:\n",
        "  print(item,': ', len(os.listdir('train/'+item)))\n",
        "\n",
        "print('Validation Set')\n",
        "for item in classes:\n",
        "  print(item,': ', len(os.listdir('valid/'+item)))"
      ],
      "metadata": {
        "colab": {
          "base_uri": "https://localhost:8080/"
        },
        "id": "uaeOKaEpRS-C",
        "outputId": "e577a2a4-5226-4ce7-aa9a-3dee782c9476"
      },
      "execution_count": 12,
      "outputs": [
        {
          "output_type": "stream",
          "name": "stdout",
          "text": [
            "Training Set\n",
            "A :  400\n",
            "F :  913\n",
            "PT :  408\n",
            "TA :  513\n",
            "DC :  3106\n",
            "LC :  564\n",
            "MC :  713\n",
            "PC :  504\n",
            "Validation Set\n",
            "A :  44\n",
            "F :  101\n",
            "PT :  45\n",
            "TA :  56\n",
            "DC :  345\n",
            "LC :  62\n",
            "MC :  79\n",
            "PC :  56\n"
          ]
        }
      ]
    },
    {
      "cell_type": "code",
      "source": [
        "train_path = './train'\n",
        "valid_path = './valid'\n",
        "#test_path = '' "
      ],
      "metadata": {
        "id": "fOxG4qrRRTAX"
      },
      "execution_count": 13,
      "outputs": []
    },
    {
      "cell_type": "code",
      "source": [
        "aug_size_train = 1800\n",
        "aug_size_valid = 200"
      ],
      "metadata": {
        "id": "PI-0jdb4RTFR"
      },
      "execution_count": 14,
      "outputs": []
    },
    {
      "cell_type": "code",
      "source": [
        "## Resampling training images\n",
        "\n",
        "for item in classes:\n",
        "  source = './train/'+item\n",
        "  files = os.listdir(source)\n",
        "  additional_size = aug_size_train-len(files)\n",
        "\n",
        "  if additional_size > 0:\n",
        "    while len(os.listdir(source)) != aug_size_train:\n",
        "      file1 = random.choice(os.listdir(source))\n",
        "      shutil.copyfile(os.path.join(source, file1), os.path.join(source, 'copy-'+file1))\n",
        "  elif additional_size < 0:\n",
        "    for file2 in random.sample(files, -additional_size):\n",
        "    #while len(os.listdir(source)) != aug_size_train:\n",
        "    #  file2 = random.choice(files)\n",
        "      os.remove('./train/'+item+'/'+file2)\n",
        "  else:\n",
        "    continue\n",
        "\n",
        "  print(item, ':', len(os.listdir(source)))"
      ],
      "metadata": {
        "colab": {
          "base_uri": "https://localhost:8080/"
        },
        "id": "GxYLRGlSRYX1",
        "outputId": "2ac687cb-816a-45e4-b313-7a7d994121c1"
      },
      "execution_count": 15,
      "outputs": [
        {
          "output_type": "stream",
          "name": "stdout",
          "text": [
            "A : 1800\n",
            "F : 1800\n",
            "PT : 1800\n",
            "TA : 1800\n",
            "DC : 1800\n",
            "LC : 1800\n",
            "MC : 1800\n",
            "PC : 1800\n"
          ]
        }
      ]
    },
    {
      "cell_type": "code",
      "source": [
        "## Resampling validation images\n",
        "\n",
        "for item in classes:\n",
        "  source = './valid/'+item\n",
        "  files = os.listdir(source)\n",
        "  additional_size = aug_size_valid-len(files)\n",
        "\n",
        "  if additional_size > 0:\n",
        "    while len(os.listdir(source)) != aug_size_valid:\n",
        "      file1 = random.choice(os.listdir(source))\n",
        "      shutil.copyfile(os.path.join(source, file1), os.path.join(source, 'copy-'+file1))\n",
        "  elif additional_size < 0:\n",
        "    for file2 in random.sample(files, -additional_size):\n",
        "    #while len(os.listdir(source)) != aug_size_train:\n",
        "    #  file2 = random.choice(files)\n",
        "      os.remove('./valid/'+item+'/'+file2)\n",
        "  else:\n",
        "    continue\n",
        "\n",
        "  print(item, ':', len(os.listdir(source)))"
      ],
      "metadata": {
        "colab": {
          "base_uri": "https://localhost:8080/"
        },
        "id": "tugw6_3HRYaP",
        "outputId": "d0ec981f-e632-4a31-acb2-6449721660d3"
      },
      "execution_count": 16,
      "outputs": [
        {
          "output_type": "stream",
          "name": "stdout",
          "text": [
            "A : 200\n",
            "F : 200\n",
            "PT : 200\n",
            "TA : 200\n",
            "DC : 200\n",
            "LC : 200\n",
            "MC : 200\n",
            "PC : 200\n"
          ]
        }
      ]
    },
    {
      "cell_type": "code",
      "source": [
        "print('Training Set')\n",
        "for item in classes:\n",
        "  print(item,': ', len(os.listdir('train/'+item)))"
      ],
      "metadata": {
        "colab": {
          "base_uri": "https://localhost:8080/"
        },
        "id": "_1i4DWX-Rb94",
        "outputId": "119643ce-7ccd-48a4-942e-0b25b5bb8857"
      },
      "execution_count": 17,
      "outputs": [
        {
          "output_type": "stream",
          "name": "stdout",
          "text": [
            "Training Set\n",
            "A :  1800\n",
            "F :  1800\n",
            "PT :  1800\n",
            "TA :  1800\n",
            "DC :  1800\n",
            "LC :  1800\n",
            "MC :  1800\n",
            "PC :  1800\n"
          ]
        }
      ]
    },
    {
      "cell_type": "code",
      "source": [
        "print('validation Set')\n",
        "for item in classes:\n",
        "  print(item,': ', len(os.listdir('valid/'+item)))"
      ],
      "metadata": {
        "colab": {
          "base_uri": "https://localhost:8080/"
        },
        "id": "X-1mn3UkRcBC",
        "outputId": "8d676724-7c7c-482a-cfbc-b84d11392c81"
      },
      "execution_count": 18,
      "outputs": [
        {
          "output_type": "stream",
          "name": "stdout",
          "text": [
            "validation Set\n",
            "A :  200\n",
            "F :  200\n",
            "PT :  200\n",
            "TA :  200\n",
            "DC :  200\n",
            "LC :  200\n",
            "MC :  200\n",
            "PC :  200\n"
          ]
        }
      ]
    },
    {
      "cell_type": "code",
      "source": [
        "train_datagen = ImageDataGenerator(\n",
        "    rescale = 1/255,\n",
        "  #  featurewise_center=True,\n",
        "   # featurewise_std_normalization=True,\n",
        "    rotation_range=20,\n",
        "    width_shift_range=0.1,\n",
        "    height_shift_range=0.1,\n",
        "    horizontal_flip=True)\n",
        "\n",
        "valid_datagen = ImageDataGenerator(\n",
        "    rescale = 1/255,\n",
        "    ##featurewise_std_normalization=True\n",
        "    )"
      ],
      "metadata": {
        "id": "TeYjgxvoRgmS"
      },
      "execution_count": 19,
      "outputs": []
    },
    {
      "cell_type": "code",
      "source": [
        "img_size = 64"
      ],
      "metadata": {
        "id": "lMJQvfQiRgpm"
      },
      "execution_count": 26,
      "outputs": []
    },
    {
      "cell_type": "code",
      "source": [
        "train_batches = train_datagen.flow_from_directory(directory=train_path, target_size=(img_size,img_size),\n",
        "                                                  class_mode = 'categorical', batch_size=32)\n",
        "\n",
        "valid_batches = valid_datagen.flow_from_directory(directory=valid_path, target_size=(img_size,img_size),\n",
        "                                                  class_mode = 'categorical', batch_size=8, shuffle = False)"
      ],
      "metadata": {
        "colab": {
          "base_uri": "https://localhost:8080/"
        },
        "id": "6oIajbl8RjnL",
        "outputId": "213a3ee6-4b6e-4cad-9572-dfe79d5ad262"
      },
      "execution_count": 27,
      "outputs": [
        {
          "output_type": "stream",
          "name": "stdout",
          "text": [
            "Found 14400 images belonging to 8 classes.\n",
            "Found 1600 images belonging to 8 classes.\n"
          ]
        }
      ]
    },
    {
      "cell_type": "code",
      "source": [
        "k_size = 3\n",
        "model = Sequential([\n",
        "    Conv2D(filters=32, kernel_size=(k_size, k_size), activation='relu', padding = 'same', input_shape=(64,64,3)),\n",
        "    BatchNormalization(),\n",
        "    MaxPool2D(pool_size=(3, 3), strides=3),\n",
        "\n",
        "    Conv2D(filters=64, kernel_size=(k_size, k_size), activation='relu', padding = 'same'),\n",
        "    BatchNormalization(),\n",
        "\n",
        "    Conv2D(filters=128, kernel_size=(k_size, k_size), activation='relu', padding = 'same'),\n",
        "    BatchNormalization(),\n",
        "    MaxPool2D(pool_size=(2, 2), strides=2),\n",
        "    Dropout(0.3),\n",
        "\n",
        "    Conv2D(filters=256, kernel_size=(k_size, k_size), activation='relu', padding = 'same'),\n",
        "    BatchNormalization(),\n",
        "\n",
        "    Conv2D(filters=512, kernel_size=(k_size, k_size), activation='relu', padding = 'same'),\n",
        "    BatchNormalization(),\n",
        "    MaxPool2D(pool_size=(2, 2), strides=2),\n",
        "    Dropout(0.3),\n",
        "\n",
        "    Flatten(),\n",
        "    Dense(units=256, activation='relu'),\n",
        "    BatchNormalization(),\n",
        "    Dropout(0.3),\n",
        "    Dense(units=8, activation='softmax')\n",
        "])"
      ],
      "metadata": {
        "id": "wUMu-cuqRjpL"
      },
      "execution_count": 28,
      "outputs": []
    },
    {
      "cell_type": "code",
      "source": [
        "print(model.summary())"
      ],
      "metadata": {
        "id": "BTudvid2XM4Y"
      },
      "execution_count": null,
      "outputs": []
    },
    {
      "cell_type": "code",
      "source": [
        "model.compile(optimizer=tf.keras.optimizers.Adam(learning_rate=0.001), loss='categorical_crossentropy', metrics=['accuracy'])"
      ],
      "metadata": {
        "id": "zhG-6FGsWSpz"
      },
      "execution_count": 29,
      "outputs": []
    },
    {
      "cell_type": "code",
      "source": [
        "model.fit(x = train_batches,steps_per_epoch=len(train_batches), validation_data=valid_batches,\n",
        "         validation_steps=len(valid_batches),epochs = 50,verbose = 2) "
      ],
      "metadata": {
        "colab": {
          "base_uri": "https://localhost:8080/"
        },
        "id": "dxcEl0avXGu8",
        "outputId": "abe5d9f2-ae12-4028-eb88-e6fc770b7f53"
      },
      "execution_count": null,
      "outputs": [
        {
          "output_type": "stream",
          "name": "stdout",
          "text": [
            "Epoch 1/50\n",
            "450/450 - 330s - loss: 1.5724 - accuracy: 0.4314 - val_loss: 2.4917 - val_accuracy: 0.3044 - 330s/epoch - 733ms/step\n",
            "Epoch 2/50\n",
            "450/450 - 307s - loss: 1.1303 - accuracy: 0.5799 - val_loss: 1.8067 - val_accuracy: 0.3963 - 307s/epoch - 682ms/step\n",
            "Epoch 3/50\n",
            "450/450 - 299s - loss: 0.9612 - accuracy: 0.6410 - val_loss: 3.2876 - val_accuracy: 0.2900 - 299s/epoch - 665ms/step\n",
            "Epoch 4/50\n",
            "450/450 - 299s - loss: 0.8562 - accuracy: 0.6776 - val_loss: 7.2511 - val_accuracy: 0.1469 - 299s/epoch - 664ms/step\n",
            "Epoch 5/50\n",
            "450/450 - 298s - loss: 0.7663 - accuracy: 0.7156 - val_loss: 7.9702 - val_accuracy: 0.1475 - 298s/epoch - 663ms/step\n",
            "Epoch 6/50\n",
            "450/450 - 303s - loss: 0.7011 - accuracy: 0.7371 - val_loss: 4.0123 - val_accuracy: 0.2506 - 303s/epoch - 673ms/step\n",
            "Epoch 7/50\n",
            "450/450 - 302s - loss: 0.6404 - accuracy: 0.7620 - val_loss: 1.8631 - val_accuracy: 0.4644 - 302s/epoch - 672ms/step\n",
            "Epoch 8/50\n",
            "450/450 - 298s - loss: 0.5790 - accuracy: 0.7852 - val_loss: 4.0340 - val_accuracy: 0.3137 - 298s/epoch - 662ms/step\n",
            "Epoch 9/50\n",
            "450/450 - 297s - loss: 0.5396 - accuracy: 0.8007 - val_loss: 3.0507 - val_accuracy: 0.3969 - 297s/epoch - 661ms/step\n",
            "Epoch 10/50\n",
            "450/450 - 297s - loss: 0.4929 - accuracy: 0.8170 - val_loss: 6.4757 - val_accuracy: 0.1800 - 297s/epoch - 659ms/step\n",
            "Epoch 11/50\n",
            "450/450 - 296s - loss: 0.4777 - accuracy: 0.8215 - val_loss: 3.6794 - val_accuracy: 0.3262 - 296s/epoch - 657ms/step\n",
            "Epoch 12/50\n",
            "450/450 - 299s - loss: 0.4331 - accuracy: 0.8376 - val_loss: 0.8629 - val_accuracy: 0.7019 - 299s/epoch - 665ms/step\n",
            "Epoch 13/50\n",
            "450/450 - 301s - loss: 0.3882 - accuracy: 0.8557 - val_loss: 3.2082 - val_accuracy: 0.3769 - 301s/epoch - 669ms/step\n",
            "Epoch 14/50\n",
            "450/450 - 298s - loss: 0.3648 - accuracy: 0.8662 - val_loss: 3.7092 - val_accuracy: 0.3363 - 298s/epoch - 662ms/step\n",
            "Epoch 15/50\n",
            "450/450 - 300s - loss: 0.3509 - accuracy: 0.8705 - val_loss: 8.9399 - val_accuracy: 0.1800 - 300s/epoch - 667ms/step\n",
            "Epoch 16/50\n",
            "450/450 - 300s - loss: 0.3368 - accuracy: 0.8794 - val_loss: 5.7128 - val_accuracy: 0.2519 - 300s/epoch - 666ms/step\n",
            "Epoch 17/50\n"
          ]
        }
      ]
    }
  ]
}